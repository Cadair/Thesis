{
 "cells": [
  {
   "cell_type": "code",
   "execution_count": null,
   "metadata": {
    "collapsed": true
   },
   "outputs": [],
   "source": [
    "%matplotlib inline"
   ]
  },
  {
   "cell_type": "code",
   "execution_count": null,
   "metadata": {
    "collapsed": true
   },
   "outputs": [],
   "source": [
    "import numpy as np\n",
    "import matplotlib.pyplot as plt\n",
    "import matplotlib as mpl\n",
    "\n",
    "import astropy.units as u\n",
    "\n",
    "import yt\n",
    "import pysac.yt\n",
    "\n",
    "import h5py\n",
    "\n",
    "from astropy.modeling import models, fitting"
   ]
  },
  {
   "cell_type": "code",
   "execution_count": null,
   "metadata": {
    "collapsed": false
   },
   "outputs": [],
   "source": [
    "ds = yt.load('/nocrypt/Slog_p240-0_A10_B005_00001.gdf')\n",
    "type(ds)"
   ]
  },
  {
   "cell_type": "code",
   "execution_count": null,
   "metadata": {
    "collapsed": false
   },
   "outputs": [],
   "source": [
    "cg = ds.index.grids[0]\n",
    "\n",
    "xmin = ds.domain_left_edge[0].convert_to_units('Mm')\n",
    "xmax = ds.domain_right_edge[0].convert_to_units('Mm')\n",
    "nx = ds.domain_dimensions[0]\n",
    "\n",
    "\n",
    "f5 = h5py.File(ds.filename)\n",
    "x_lin = f5['x'][0][:,63,0]\n",
    "x_lin = x_lin*u.m\n",
    "x_lin = x_lin.to(u.Mm)\n",
    "#x_lin = np.linspace(xmin, xmax, nx)\n",
    "bmag = cg['magnetic_field_strength'][:,63,0].to_astropy().to(u.mT)\n",
    "\n",
    "gaussian = models.Gaussian1D()\n",
    "bmag_fit = fitting.LevMarLSQFitter()(gaussian, x_lin, bmag)\n",
    "\n",
    "fwhm = 2.*np.sqrt(2*np.log(2))*bmag_fit.stddev.value\n",
    "fwhm = np.abs(fwhm) * u.Mm\n",
    "\n",
    "fwtm = 2.*np.sqrt(2*np.log(10))*bmag_fit.stddev.value\n",
    "fwtm = np.abs(fwtm) * u.Mm\n",
    "\n",
    "u.Quantity([fwhm, fwtm]).to(u.km)"
   ]
  },
  {
   "cell_type": "code",
   "execution_count": null,
   "metadata": {
    "collapsed": false
   },
   "outputs": [],
   "source": [
    "fig = plt.figure(figsize=(15,8))\n",
    "plt.plot(x_lin, bmag.to(u.mT), 'x')\n",
    "X = np.linspace(xmin, xmax, 1000)\n",
    "plt.plot(X, bmag_fit(X.value))\n",
    "\n",
    "plt.xlabel(\"X [{}]\".format(x_lin.unit))\n",
    "plt.ylabel(\"Magnetic Field Strength [{}]\".format(bmag.unit))\n",
    "plt.axhline(y=bmag_fit.amplitude.value/10)"
   ]
  },
  {
   "cell_type": "code",
   "execution_count": null,
   "metadata": {
    "collapsed": false
   },
   "outputs": [],
   "source": [
    "f5['x'][2][0,0,:][-1]"
   ]
  },
  {
   "cell_type": "code",
   "execution_count": null,
   "metadata": {
    "collapsed": false
   },
   "outputs": [],
   "source": [
    "_.to(u.Mm)"
   ]
  },
  {
   "cell_type": "code",
   "execution_count": null,
   "metadata": {
    "collapsed": false
   },
   "outputs": [],
   "source": [
    "x_lin"
   ]
  },
  {
   "cell_type": "code",
   "execution_count": null,
   "metadata": {
    "collapsed": false
   },
   "outputs": [],
   "source": [
    "x_lin[1:] - x_lin[:-1]"
   ]
  },
  {
   "cell_type": "code",
   "execution_count": null,
   "metadata": {
    "collapsed": false
   },
   "outputs": [],
   "source": [
    "np.save('mfe_x_coords_Mm.npy', x_lin.value)"
   ]
  },
  {
   "cell_type": "code",
   "execution_count": null,
   "metadata": {
    "collapsed": true
   },
   "outputs": [],
   "source": [
    "np.save('mfe_bmag_x_mT.npy', bmag.value)"
   ]
  },
  {
   "cell_type": "code",
   "execution_count": null,
   "metadata": {
    "collapsed": false
   },
   "outputs": [],
   "source": [
    "import numpy as np\n",
    "\n",
    "from astropy.modeling import models, fitting\n",
    "import astropy.units as u\n",
    "\n",
    "\n",
    "x_lin = np.load('mfe_x_coords_Mm.npy')*u.Mm\n",
    "bmag = np.load('mfe_bmag_x_mT.npy')*u.mT\n",
    "\n",
    "gaussian = models.Gaussian1D()\n",
    "bmag_fit = fitting.LevMarLSQFitter()(gaussian, x_lin, bmag)\n",
    "\n",
    "fwhm = 2.*np.sqrt(2*np.log(2))*bmag_fit.stddev.value\n",
    "fwhm = np.abs(fwhm) * u.Mm\n",
    "\n",
    "fwtm = 2.*np.sqrt(2*np.log(10))*bmag_fit.stddev.value\n",
    "fwtm = np.abs(fwtm) * u.Mm\n",
    "\n",
    "u.Quantity([fwhm, fwtm]).to(u.km)"
   ]
  },
  {
   "cell_type": "code",
   "execution_count": null,
   "metadata": {
    "collapsed": false
   },
   "outputs": [],
   "source": [
    "cg['plasma_beta'].max(), cg['plasma_beta'].min()"
   ]
  },
  {
   "cell_type": "code",
   "execution_count": null,
   "metadata": {
    "collapsed": false
   },
   "outputs": [],
   "source": [
    "cg['density'].max(), cg['density'].min()"
   ]
  },
  {
   "cell_type": "code",
   "execution_count": null,
   "metadata": {
    "collapsed": false
   },
   "outputs": [],
   "source": [
    "cg['thermal_pressure'].max(), cg['thermal_pressure'].min()"
   ]
  },
  {
   "cell_type": "code",
   "execution_count": null,
   "metadata": {
    "collapsed": false
   },
   "outputs": [],
   "source": [
    "slc = yt.SlicePlot(ds, 'x', 'thermal_pressure', origin='lower-center-domain', axes_unit='Mm')\n",
    "slc.set_cmap('all', 'OrRd')\n",
    "\n",
    "seed_points = np.zeros([11,2]) + 1.52\n",
    "seed_points[:,0] = np.linspace(-0.99, 0.95, seed_points.shape[0], endpoint=True)\n",
    "slc.annotate_streamlines('mag_field_y', 'mag_field_z', field_color='magnetic_field_strength',\n",
    "                         plot_args={'start_points':seed_points, 'density':15, 'cmap':'winter'})\n",
    "\n",
    "slc.annotate_contour('plasma_beta', clim=(0.1,50),label=True, take_log=False)"
   ]
  },
  {
   "cell_type": "code",
   "execution_count": null,
   "metadata": {
    "collapsed": false
   },
   "outputs": [],
   "source": [
    "cg['mag_field_z'][63,63,:]"
   ]
  },
  {
   "cell_type": "code",
   "execution_count": null,
   "metadata": {
    "collapsed": true
   },
   "outputs": [],
   "source": [
    "np.save('mfe_Bz_2015.npy', _)"
   ]
  },
  {
   "cell_type": "code",
   "execution_count": null,
   "metadata": {
    "collapsed": true
   },
   "outputs": [],
   "source": []
  }
 ],
 "metadata": {
  "kernelspec": {
   "display_name": "Python 2",
   "language": "python2",
   "name": "python2"
  },
  "language_info": {
   "codemirror_mode": {
    "name": "ipython",
    "version": 2
   },
   "file_extension": ".py",
   "mimetype": "text/x-python",
   "name": "python",
   "nbconvert_exporter": "python",
   "pygments_lexer": "ipython2",
   "version": "2.7.10"
  }
 },
 "nbformat": 4,
 "nbformat_minor": 0
}
