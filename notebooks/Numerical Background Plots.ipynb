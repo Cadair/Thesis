{
 "cells": [
  {
   "cell_type": "code",
   "execution_count": 1,
   "metadata": {
    "collapsed": true
   },
   "outputs": [],
   "source": [
    "%matplotlib inline"
   ]
  },
  {
   "cell_type": "code",
   "execution_count": 2,
   "metadata": {
    "collapsed": true
   },
   "outputs": [],
   "source": [
    "import numpy as np\n",
    "import matplotlib.pyplot as plt\n",
    "\n",
    "import astropy.units as u\n",
    "\n",
    "import yt\n",
    "import pysac.yt\n",
    "\n",
    "from astropy.modeling import models, fitting"
   ]
  },
  {
   "cell_type": "code",
   "execution_count": 3,
   "metadata": {
    "collapsed": false
   },
   "outputs": [
    {
     "name": "stderr",
     "output_type": "stream",
     "text": [
      "yt : [WARNING  ] 2015-08-25 10:59:03,506 'field_units' was overridden by 'dataset_units/density_bg'\n",
      "yt : [WARNING  ] 2015-08-25 10:59:03,507 'field_units' was overridden by 'dataset_units/density_pert'\n",
      "yt : [WARNING  ] 2015-08-25 10:59:03,509 'field_units' was overridden by 'dataset_units/internal_energy_bg'\n",
      "yt : [WARNING  ] 2015-08-25 10:59:03,511 'field_units' was overridden by 'dataset_units/internal_energy_pert'\n",
      "yt : [WARNING  ] 2015-08-25 10:59:03,513 'field_units' was overridden by 'dataset_units/mag_field_x_bg'\n",
      "yt : [WARNING  ] 2015-08-25 10:59:03,515 'field_units' was overridden by 'dataset_units/mag_field_x_pert'\n",
      "yt : [WARNING  ] 2015-08-25 10:59:03,516 'field_units' was overridden by 'dataset_units/mag_field_y_bg'\n",
      "yt : [WARNING  ] 2015-08-25 10:59:03,518 'field_units' was overridden by 'dataset_units/mag_field_y_pert'\n",
      "yt : [WARNING  ] 2015-08-25 10:59:03,519 'field_units' was overridden by 'dataset_units/mag_field_z_bg'\n",
      "yt : [WARNING  ] 2015-08-25 10:59:03,521 'field_units' was overridden by 'dataset_units/mag_field_z_pert'\n",
      "yt : [WARNING  ] 2015-08-25 10:59:03,526 'field_units' was overridden by 'dataset_units/velocity_x'\n",
      "yt : [WARNING  ] 2015-08-25 10:59:03,528 'field_units' was overridden by 'dataset_units/velocity_y'\n",
      "yt : [WARNING  ] 2015-08-25 10:59:03,532 'field_units' was overridden by 'dataset_units/velocity_z'\n",
      "yt : [INFO     ] 2015-08-25 10:59:03,570 Parameters: current_time              = 0.0\n",
      "yt : [INFO     ] 2015-08-25 10:59:03,570 Parameters: domain_dimensions         = [128 128 128]\n",
      "yt : [INFO     ] 2015-08-25 10:59:03,572 Parameters: domain_left_edge          = [ 3664122.1  4885496.2  6106870.2]\n",
      "yt : [INFO     ] 2015-08-25 10:59:03,573 Parameters: domain_right_edge         = [  1.99218750e+08   1.99218750e+08   1.99218750e+08]\n",
      "yt : [INFO     ] 2015-08-25 10:59:03,575 Parameters: cosmological_simulation   = 0.0\n"
     ]
    },
    {
     "data": {
      "text/plain": [
       "pysac.yt.data_structures.SACGDFDataset"
      ]
     },
     "execution_count": 3,
     "metadata": {},
     "output_type": "execute_result"
    }
   ],
   "source": [
    "ds = yt.load('/nocrypt/3D_128_128_128_ini.gdf')\n",
    "type(ds)"
   ]
  },
  {
   "cell_type": "code",
   "execution_count": 4,
   "metadata": {
    "collapsed": false
   },
   "outputs": [
    {
     "name": "stderr",
     "output_type": "stream",
     "text": [
      "yt : [INFO     ] 2015-08-25 10:59:04,779 Loading field plugins.\n",
      "yt : [INFO     ] 2015-08-25 10:59:04,780 Loaded angular_momentum (8 new fields)\n",
      "yt : [INFO     ] 2015-08-25 10:59:04,781 Loaded astro (15 new fields)\n",
      "yt : [INFO     ] 2015-08-25 10:59:04,782 Loaded cosmology (22 new fields)\n",
      "yt : [INFO     ] 2015-08-25 10:59:04,784 Loaded fluid (63 new fields)\n",
      "yt : [INFO     ] 2015-08-25 10:59:04,788 Loaded fluid_vector (95 new fields)\n",
      "yt : [INFO     ] 2015-08-25 10:59:04,789 Loaded geometric (111 new fields)\n",
      "yt : [INFO     ] 2015-08-25 10:59:04,789 Loaded local (111 new fields)\n",
      "yt : [INFO     ] 2015-08-25 10:59:04,790 Loaded magnetic_field (116 new fields)\n",
      "yt : [INFO     ] 2015-08-25 10:59:04,791 Loaded my_plugins (116 new fields)\n",
      "yt : [INFO     ] 2015-08-25 10:59:04,791 Loaded species (118 new fields)\n"
     ]
    },
    {
     "ename": "IOError",
     "evalue": "Can't read data (File read failed: time = tue aug 25 10:59:05 2015\n, filename = '/nocrypt/3d_128_128_128_ini.gdf', file descriptor = 57, errno = 14, error message = 'bad address', buf = 0x4bb6000, total read size = 16250768, bytes this sub-read = 16250768, bytes actually read = 18446744073709551615, offset = 235449552)",
     "output_type": "error",
     "traceback": [
      "\u001b[1;31m---------------------------------------------------------------------------\u001b[0m",
      "\u001b[1;31mIOError\u001b[0m                                   Traceback (most recent call last)",
      "\u001b[1;32m<ipython-input-4-21e5ce361b17>\u001b[0m in \u001b[0;36m<module>\u001b[1;34m()\u001b[0m\n\u001b[0;32m      1\u001b[0m slc = yt.SlicePlot(ds, 'x', 'magnetic_field_strength', origin='lower-left-domain',\n\u001b[1;32m----> 2\u001b[1;33m                    axes_unit='Mm')\n\u001b[0m\u001b[0;32m      3\u001b[0m \u001b[0mslc\u001b[0m\u001b[1;33m.\u001b[0m\u001b[0mset_cmap\u001b[0m\u001b[1;33m(\u001b[0m\u001b[1;34m'all'\u001b[0m\u001b[1;33m,\u001b[0m \u001b[1;34m'BuPu'\u001b[0m\u001b[1;33m)\u001b[0m\u001b[1;33m\u001b[0m\u001b[0m\n\u001b[0;32m      4\u001b[0m \u001b[0mslc\u001b[0m\u001b[1;33m.\u001b[0m\u001b[0mannotate_contour\u001b[0m\u001b[1;33m(\u001b[0m\u001b[1;34m'plasma_beta'\u001b[0m\u001b[1;33m)\u001b[0m\u001b[1;33m\u001b[0m\u001b[0m\n\u001b[0;32m      5\u001b[0m \u001b[1;33m\u001b[0m\u001b[0m\n",
      "\u001b[1;32m/opt/miniconda/envs/thesis/lib/python2.7/site-packages/yt/visualization/plot_window.pyc\u001b[0m in \u001b[0;36mSlicePlot\u001b[1;34m(ds, normal, fields, axis, *args, **kwargs)\u001b[0m\n\u001b[0;32m   2127\u001b[0m             \u001b[1;32mdel\u001b[0m \u001b[0mkwargs\u001b[0m\u001b[1;33m[\u001b[0m\u001b[1;34m'north_vector'\u001b[0m\u001b[1;33m]\u001b[0m\u001b[1;33m\u001b[0m\u001b[0m\n\u001b[0;32m   2128\u001b[0m \u001b[1;33m\u001b[0m\u001b[0m\n\u001b[1;32m-> 2129\u001b[1;33m         \u001b[1;32mreturn\u001b[0m \u001b[0mAxisAlignedSlicePlot\u001b[0m\u001b[1;33m(\u001b[0m\u001b[0mds\u001b[0m\u001b[1;33m,\u001b[0m \u001b[0mnormal\u001b[0m\u001b[1;33m,\u001b[0m \u001b[0mfields\u001b[0m\u001b[1;33m,\u001b[0m \u001b[1;33m*\u001b[0m\u001b[0margs\u001b[0m\u001b[1;33m,\u001b[0m \u001b[1;33m**\u001b[0m\u001b[0mkwargs\u001b[0m\u001b[1;33m)\u001b[0m\u001b[1;33m\u001b[0m\u001b[0m\n\u001b[0m",
      "\u001b[1;32m/opt/miniconda/envs/thesis/lib/python2.7/site-packages/yt/visualization/plot_window.pyc\u001b[0m in \u001b[0;36m__init__\u001b[1;34m(self, ds, axis, fields, center, width, axes_unit, origin, fontsize, field_parameters, window_size, aspect, data_source)\u001b[0m\n\u001b[0;32m   1265\u001b[0m         slc = ds.slice(axis, center[axis], field_parameters=field_parameters,\n\u001b[0;32m   1266\u001b[0m                        center=center, data_source=data_source)\n\u001b[1;32m-> 1267\u001b[1;33m         \u001b[0mslc\u001b[0m\u001b[1;33m.\u001b[0m\u001b[0mget_data\u001b[0m\u001b[1;33m(\u001b[0m\u001b[0mfields\u001b[0m\u001b[1;33m)\u001b[0m\u001b[1;33m\u001b[0m\u001b[0m\n\u001b[0m\u001b[0;32m   1268\u001b[0m         PWViewerMPL.__init__(self, slc, bounds, origin=origin,\n\u001b[0;32m   1269\u001b[0m                              \u001b[0mfontsize\u001b[0m\u001b[1;33m=\u001b[0m\u001b[0mfontsize\u001b[0m\u001b[1;33m,\u001b[0m \u001b[0mfields\u001b[0m\u001b[1;33m=\u001b[0m\u001b[0mfields\u001b[0m\u001b[1;33m,\u001b[0m\u001b[1;33m\u001b[0m\u001b[0m\n",
      "\u001b[1;32m/opt/miniconda/envs/thesis/lib/python2.7/site-packages/yt/data_objects/data_containers.pyc\u001b[0m in \u001b[0;36mget_data\u001b[1;34m(self, fields)\u001b[0m\n\u001b[0;32m    700\u001b[0m         \u001b[1;31m# need to be generated.\u001b[0m\u001b[1;33m\u001b[0m\u001b[1;33m\u001b[0m\u001b[0m\n\u001b[0;32m    701\u001b[0m         read_fluids, gen_fluids = self.index._read_fluid_fields(\n\u001b[1;32m--> 702\u001b[1;33m                                         fluids, self, self._current_chunk)\n\u001b[0m\u001b[0;32m    703\u001b[0m         \u001b[1;32mfor\u001b[0m \u001b[0mf\u001b[0m\u001b[1;33m,\u001b[0m \u001b[0mv\u001b[0m \u001b[1;32min\u001b[0m \u001b[0mread_fluids\u001b[0m\u001b[1;33m.\u001b[0m\u001b[0mitems\u001b[0m\u001b[1;33m(\u001b[0m\u001b[1;33m)\u001b[0m\u001b[1;33m:\u001b[0m\u001b[1;33m\u001b[0m\u001b[0m\n\u001b[0;32m    704\u001b[0m             \u001b[0mself\u001b[0m\u001b[1;33m.\u001b[0m\u001b[0mfield_data\u001b[0m\u001b[1;33m[\u001b[0m\u001b[0mf\u001b[0m\u001b[1;33m]\u001b[0m \u001b[1;33m=\u001b[0m \u001b[0mself\u001b[0m\u001b[1;33m.\u001b[0m\u001b[0mds\u001b[0m\u001b[1;33m.\u001b[0m\u001b[0marr\u001b[0m\u001b[1;33m(\u001b[0m\u001b[0mv\u001b[0m\u001b[1;33m,\u001b[0m \u001b[0minput_units\u001b[0m \u001b[1;33m=\u001b[0m \u001b[0mfinfos\u001b[0m\u001b[1;33m[\u001b[0m\u001b[0mf\u001b[0m\u001b[1;33m]\u001b[0m\u001b[1;33m.\u001b[0m\u001b[0munits\u001b[0m\u001b[1;33m)\u001b[0m\u001b[1;33m\u001b[0m\u001b[0m\n",
      "\u001b[1;32m/opt/miniconda/envs/thesis/lib/python2.7/site-packages/yt/geometry/geometry_handler.pyc\u001b[0m in \u001b[0;36m_read_fluid_fields\u001b[1;34m(self, fields, dobj, chunk)\u001b[0m\n\u001b[0;32m    250\u001b[0m             \u001b[0mselector\u001b[0m\u001b[1;33m,\u001b[0m\u001b[1;33m\u001b[0m\u001b[0m\n\u001b[0;32m    251\u001b[0m             \u001b[0mfields_to_read\u001b[0m\u001b[1;33m,\u001b[0m\u001b[1;33m\u001b[0m\u001b[0m\n\u001b[1;32m--> 252\u001b[1;33m             chunk_size)\n\u001b[0m\u001b[0;32m    253\u001b[0m         \u001b[1;32mreturn\u001b[0m \u001b[0mfields_to_return\u001b[0m\u001b[1;33m,\u001b[0m \u001b[0mfields_to_generate\u001b[0m\u001b[1;33m\u001b[0m\u001b[0m\n\u001b[0;32m    254\u001b[0m \u001b[1;33m\u001b[0m\u001b[0m\n",
      "\u001b[1;32m/opt/miniconda/envs/thesis/lib/python2.7/site-packages/yt/frontends/gdf/io.pyc\u001b[0m in \u001b[0;36m_read_fluid_selection\u001b[1;34m(self, chunks, selector, fields, size)\u001b[0m\n\u001b[0;32m     95\u001b[0m                     \u001b[1;32melse\u001b[0m\u001b[1;33m:\u001b[0m\u001b[1;33m\u001b[0m\u001b[0m\n\u001b[0;32m     96\u001b[0m                         \u001b[0mdg\u001b[0m \u001b[1;33m=\u001b[0m \u001b[0mh5py\u001b[0m\u001b[1;33m.\u001b[0m\u001b[0mh5d\u001b[0m\u001b[1;33m.\u001b[0m\u001b[0mopen\u001b[0m\u001b[1;33m(\u001b[0m\u001b[0mfid\u001b[0m\u001b[1;33m,\u001b[0m \u001b[0mbytes\u001b[0m\u001b[1;33m(\u001b[0m\u001b[0m_field_dname\u001b[0m\u001b[1;33m(\u001b[0m\u001b[0mgrid\u001b[0m\u001b[1;33m.\u001b[0m\u001b[0mid\u001b[0m\u001b[1;33m,\u001b[0m \u001b[0mfname\u001b[0m\u001b[1;33m)\u001b[0m\u001b[1;33m,\u001b[0m\u001b[1;34m'utf-8'\u001b[0m\u001b[1;33m)\u001b[0m\u001b[1;33m)\u001b[0m\u001b[1;33m\u001b[0m\u001b[0m\n\u001b[1;32m---> 97\u001b[1;33m                     \u001b[0mdg\u001b[0m\u001b[1;33m.\u001b[0m\u001b[0mread\u001b[0m\u001b[1;33m(\u001b[0m\u001b[0mh5py\u001b[0m\u001b[1;33m.\u001b[0m\u001b[0mh5s\u001b[0m\u001b[1;33m.\u001b[0m\u001b[0mALL\u001b[0m\u001b[1;33m,\u001b[0m \u001b[0mh5py\u001b[0m\u001b[1;33m.\u001b[0m\u001b[0mh5s\u001b[0m\u001b[1;33m.\u001b[0m\u001b[0mALL\u001b[0m\u001b[1;33m,\u001b[0m \u001b[0mdata\u001b[0m\u001b[1;33m)\u001b[0m\u001b[1;33m\u001b[0m\u001b[0m\n\u001b[0m\u001b[0;32m     98\u001b[0m                     \u001b[1;31m# caches\u001b[0m\u001b[1;33m\u001b[0m\u001b[1;33m\u001b[0m\u001b[0m\n\u001b[0;32m     99\u001b[0m                     \u001b[0mnd\u001b[0m \u001b[1;33m=\u001b[0m \u001b[0mgrid\u001b[0m\u001b[1;33m.\u001b[0m\u001b[0mselect\u001b[0m\u001b[1;33m(\u001b[0m\u001b[0mselector\u001b[0m\u001b[1;33m,\u001b[0m \u001b[0mdata_view\u001b[0m\u001b[1;33m,\u001b[0m \u001b[0mrv\u001b[0m\u001b[1;33m[\u001b[0m\u001b[0mfield\u001b[0m\u001b[1;33m]\u001b[0m\u001b[1;33m,\u001b[0m \u001b[0mind\u001b[0m\u001b[1;33m)\u001b[0m\u001b[1;33m\u001b[0m\u001b[0m\n",
      "\u001b[1;32mh5py/_objects.pyx\u001b[0m in \u001b[0;36mh5py._objects.with_phil.wrapper (-------src-dir-------/h5py/_objects.c:2458)\u001b[1;34m()\u001b[0m\n",
      "\u001b[1;32mh5py/_objects.pyx\u001b[0m in \u001b[0;36mh5py._objects.with_phil.wrapper (-------src-dir-------/h5py/_objects.c:2415)\u001b[1;34m()\u001b[0m\n",
      "\u001b[1;32mh5py/h5d.pyx\u001b[0m in \u001b[0;36mh5py.h5d.DatasetID.read (-------src-dir-------/h5py/h5d.c:3058)\u001b[1;34m()\u001b[0m\n",
      "\u001b[1;32mh5py/_proxy.pyx\u001b[0m in \u001b[0;36mh5py._proxy.dset_rw (-------src-dir-------/h5py/_proxy.c:1670)\u001b[1;34m()\u001b[0m\n",
      "\u001b[1;32mh5py/_proxy.pyx\u001b[0m in \u001b[0;36mh5py._proxy.H5PY_H5Dread (-------src-dir-------/h5py/_proxy.c:1336)\u001b[1;34m()\u001b[0m\n",
      "\u001b[1;31mIOError\u001b[0m: Can't read data (File read failed: time = tue aug 25 10:59:05 2015\n, filename = '/nocrypt/3d_128_128_128_ini.gdf', file descriptor = 57, errno = 14, error message = 'bad address', buf = 0x4bb6000, total read size = 16250768, bytes this sub-read = 16250768, bytes actually read = 18446744073709551615, offset = 235449552)"
     ]
    }
   ],
   "source": [
    "slc = yt.SlicePlot(ds, 'x', 'magnetic_field_strength', origin='lower-left-domain',\n",
    "                   axes_unit='Mm')\n",
    "slc.set_cmap('all', 'BuPu')\n",
    "slc.annotate_contour('plasma_beta')\n",
    "\n",
    "seed_points = np.zeros([11,2]) + 152\n",
    "seed_points[:,0] = np.linspace(5, 190, seed_points.shape[0], endpoint=True)\n",
    "slc.annotate_streamlines('mag_field_y', 'mag_field_z', field_color='magnetic_field_strength', \n",
    "                        plot_args={'start_points':seed_points, 'density':15, 'cmap':'winter', 'linewidth': 2,\n",
    "                                   'norm': slc.plots['magnetic_field_strength'].image.norm})\n",
    "slc.show()"
   ]
  },
  {
   "cell_type": "code",
   "execution_count": null,
   "metadata": {
    "collapsed": true
   },
   "outputs": [],
   "source": []
  }
 ],
 "metadata": {
  "kernelspec": {
   "display_name": "Python 2",
   "language": "python",
   "name": "python2"
  },
  "language_info": {
   "codemirror_mode": {
    "name": "ipython",
    "version": 2
   },
   "file_extension": ".py",
   "mimetype": "text/x-python",
   "name": "python",
   "nbconvert_exporter": "python",
   "pygments_lexer": "ipython2",
   "version": "2.7.10"
  }
 },
 "nbformat": 4,
 "nbformat_minor": 0
}
