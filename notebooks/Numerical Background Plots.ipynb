{
 "cells": [
  {
   "cell_type": "code",
   "execution_count": 1,
   "metadata": {
    "collapsed": true
   },
   "outputs": [],
   "source": [
    "%matplotlib inline"
   ]
  },
  {
   "cell_type": "code",
   "execution_count": 2,
   "metadata": {
    "collapsed": true
   },
   "outputs": [],
   "source": [
    "import numpy as np\n",
    "import matplotlib.pyplot as plt\n",
    "import matplotlib\n",
    "\n",
    "import astropy.units as u\n",
    "\n",
    "import yt\n",
    "import pysac.yt\n",
    "\n",
    "import h5py\n",
    "\n",
    "from astropy.modeling import models, fitting"
   ]
  },
  {
   "cell_type": "code",
   "execution_count": 3,
   "metadata": {
    "collapsed": false
   },
   "outputs": [
    {
     "name": "stderr",
     "output_type": "stream",
     "text": [
      "yt : [WARNING  ] 2015-09-02 11:51:40,540 'field_units' was overridden by 'dataset_units/density_bg'\n",
      "yt : [WARNING  ] 2015-09-02 11:51:40,544 'field_units' was overridden by 'dataset_units/density_pert'\n",
      "yt : [WARNING  ] 2015-09-02 11:51:40,549 'field_units' was overridden by 'dataset_units/internal_energy_bg'\n",
      "yt : [WARNING  ] 2015-09-02 11:51:40,553 'field_units' was overridden by 'dataset_units/internal_energy_pert'\n",
      "yt : [WARNING  ] 2015-09-02 11:51:40,560 'field_units' was overridden by 'dataset_units/mag_field_x_bg'\n",
      "yt : [WARNING  ] 2015-09-02 11:51:40,561 'field_units' was overridden by 'dataset_units/mag_field_x_pert'\n",
      "yt : [WARNING  ] 2015-09-02 11:51:40,563 'field_units' was overridden by 'dataset_units/mag_field_y_bg'\n",
      "yt : [WARNING  ] 2015-09-02 11:51:40,565 'field_units' was overridden by 'dataset_units/mag_field_y_pert'\n",
      "yt : [WARNING  ] 2015-09-02 11:51:40,567 'field_units' was overridden by 'dataset_units/mag_field_z_bg'\n",
      "yt : [WARNING  ] 2015-09-02 11:51:40,569 'field_units' was overridden by 'dataset_units/mag_field_z_pert'\n",
      "yt : [WARNING  ] 2015-09-02 11:51:40,576 'field_units' was overridden by 'dataset_units/velocity_x'\n",
      "yt : [WARNING  ] 2015-09-02 11:51:40,578 'field_units' was overridden by 'dataset_units/velocity_y'\n",
      "yt : [WARNING  ] 2015-09-02 11:51:40,581 'field_units' was overridden by 'dataset_units/velocity_z'\n",
      "yt : [INFO     ] 2015-09-02 11:51:40,647 Parameters: current_time              = 1.00339395144\n",
      "yt : [INFO     ] 2015-09-02 11:51:40,648 Parameters: domain_dimensions         = [128 128 128]\n",
      "yt : [INFO     ] 2015-09-02 11:51:40,650 Parameters: domain_left_edge          = [ 78125.     78125.     36641.221]\n",
      "yt : [INFO     ] 2015-09-02 11:51:40,652 Parameters: domain_right_edge         = [ 1992187.5  1992187.5  1587786.3]\n",
      "yt : [INFO     ] 2015-09-02 11:51:40,655 Parameters: cosmological_simulation   = 0.0\n"
     ]
    },
    {
     "data": {
      "text/plain": [
       "pysac.yt.data_structures.SACGDFDataset"
      ]
     },
     "execution_count": 3,
     "metadata": {},
     "output_type": "execute_result"
    }
   ],
   "source": [
    "ds = yt.load('/nocrypt/Slog_p240-0_A10_B005_00001.gdf')\n",
    "type(ds)"
   ]
  },
  {
   "cell_type": "code",
   "execution_count": 11,
   "metadata": {
    "collapsed": false
   },
   "outputs": [
    {
     "data": {
      "text/latex": [
       "$[102.42726,~186.68554] \\; \\mathrm{km}$"
      ],
      "text/plain": [
       "<Quantity [ 102.42726282, 186.68554027] km>"
      ]
     },
     "execution_count": 11,
     "metadata": {},
     "output_type": "execute_result"
    }
   ],
   "source": [
    "cg = ds.index.grids[0]\n",
    "\n",
    "xmin = ds.domain_left_edge[0].convert_to_units('Mm')\n",
    "xmax = ds.domain_right_edge[0].convert_to_units('Mm')\n",
    "nx = ds.domain_dimensions[0]\n",
    "\n",
    "\n",
    "f5 = h5py.File(ds.filename)\n",
    "x_lin = f5['x'][0][:,63,0]\n",
    "x_lin = x_lin*u.m\n",
    "x_lin = x_lin.to(u.Mm)\n",
    "#x_lin = np.linspace(xmin, xmax, nx)\n",
    "bmag = cg['magnetic_field_strength'][:,63,0].to_astropy().to(u.mT)\n",
    "\n",
    "gaussian = models.Gaussian1D()\n",
    "bmag_fit = fitting.LevMarLSQFitter()(gaussian, x_lin, bmag)\n",
    "\n",
    "fwhm = 2.*np.sqrt(2*np.log(2))*bmag_fit.stddev.value\n",
    "fwhm = np.abs(fwhm) * u.Mm\n",
    "\n",
    "fwtm = 2.*np.sqrt(2*np.log(10))*bmag_fit.stddev.value\n",
    "fwtm = np.abs(fwtm) * u.Mm\n",
    "\n",
    "u.Quantity([fwhm, fwtm]).to(u.km)"
   ]
  },
  {
   "cell_type": "code",
   "execution_count": 13,
   "metadata": {
    "collapsed": false
   },
   "outputs": [
    {
     "data": {
      "text/plain": [
       "<matplotlib.lines.Line2D at 0x7fcd8e5fe850>"
      ]
     },
     "execution_count": 13,
     "metadata": {},
     "output_type": "execute_result"
    },
    {
     "data": {
      "image/png": "[encoded data removed]",
      "text/plain": [
       "<matplotlib.figure.Figure at 0x7fcd8e7809d0>"
      ]
     },
     "metadata": {},
     "output_type": "display_data"
    }
   ],
   "source": [
    "fig = plt.figure(figsize=(15,8))\n",
    "plt.plot(x_lin, bmag.to(u.mT), 'x')\n",
    "X = np.linspace(xmin, xmax, 1000)\n",
    "plt.plot(X, bmag_fit(X.value))\n",
    "\n",
    "plt.xlabel(\"X [{}]\".format(x_lin.unit))\n",
    "plt.ylabel(\"Magnetic Field Strength [{}]\".format(bmag.unit))\n",
    "plt.axhline(y=bmag_fit.amplitude.value/10)"
   ]
  },
  {
   "cell_type": "code",
   "execution_count": null,
   "metadata": {
    "collapsed": true
   },
   "outputs": [],
   "source": []
  },
  {
   "cell_type": "code",
   "execution_count": 15,
   "metadata": {
    "collapsed": false
   },
   "outputs": [],
   "source": [
    "np.save('mfe_x_coords_Mm.npy', x_lin.value)"
   ]
  },
  {
   "cell_type": "code",
   "execution_count": 16,
   "metadata": {
    "collapsed": true
   },
   "outputs": [],
   "source": [
    "np.save('mfe_bmag_x_mT.npy', bmag.value)"
   ]
  },
  {
   "cell_type": "code",
   "execution_count": 4,
   "metadata": {
    "collapsed": false
   },
   "outputs": [
    {
     "data": {
      "text/latex": [
       "$[102.42726,~186.68554] \\; \\mathrm{km}$"
      ],
      "text/plain": [
       "<Quantity [ 102.42726282, 186.68554027] km>"
      ]
     },
     "execution_count": 4,
     "metadata": {},
     "output_type": "execute_result"
    }
   ],
   "source": [
    "import numpy as np\n",
    "\n",
    "from astropy.modeling import models, fitting\n",
    "import astropy.units as u\n",
    "\n",
    "\n",
    "x_lin = np.load('mfe_x_coords_Mm.npy')*u.Mm\n",
    "bmag = np.load('mfe_bmag_x_mT.npy')*u.mT\n",
    "\n",
    "gaussian = models.Gaussian1D()\n",
    "bmag_fit = fitting.LevMarLSQFitter()(gaussian, x_lin, bmag)\n",
    "\n",
    "fwhm = 2.*np.sqrt(2*np.log(2))*bmag_fit.stddev.value\n",
    "fwhm = np.abs(fwhm) * u.Mm\n",
    "\n",
    "fwtm = 2.*np.sqrt(2*np.log(10))*bmag_fit.stddev.value\n",
    "fwtm = np.abs(fwtm) * u.Mm\n",
    "\n",
    "u.Quantity([fwhm, fwtm]).to(u.km)"
   ]
  },
  {
   "cell_type": "code",
   "execution_count": null,
   "metadata": {
    "collapsed": true
   },
   "outputs": [],
   "source": []
  }
 ],
 "metadata": {
  "kernelspec": {
   "display_name": "Python 2",
   "language": "python2",
   "name": "python2"
  },
  "language_info": {
   "codemirror_mode": {
    "name": "ipython",
    "version": 2
   },
   "file_extension": ".py",
   "mimetype": "text/x-python",
   "name": "python",
   "nbconvert_exporter": "python",
   "pygments_lexer": "ipython2",
   "version": "2.7.10"
  }
 },
 "nbformat": 4,
 "nbformat_minor": 0
}
