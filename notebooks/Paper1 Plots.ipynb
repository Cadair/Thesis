{
 "cells": [
  {
   "cell_type": "code",
   "execution_count": 1,
   "metadata": {
    "collapsed": false
   },
   "outputs": [
    {
     "name": "stdout",
     "output_type": "stream",
     "text": [
      "Using matplotlib backend: Qt4Agg\n"
     ]
    }
   ],
   "source": [
    "import os\n",
    "import numpy as np\n",
    "\n",
    "%matplotlib\n",
    "import matplotlib as mpl\n",
    "import matplotlib.pyplot as plt\n",
    "from matplotlib.image import NonUniformImage\n",
    "\n",
    "from scipy.interpolate import interp1d\n"
   ]
  },
  {
   "cell_type": "code",
   "execution_count": 2,
   "metadata": {
    "collapsed": true
   },
   "outputs": [],
   "source": [
    "base_path = '/home/stuart/GitHub/Thesis/thesis/Chapter4/Data/'"
   ]
  },
  {
   "cell_type": "code",
   "execution_count": 3,
   "metadata": {
    "collapsed": false
   },
   "outputs": [],
   "source": [
    "def get_filepath(base_path, driver, period, post_amp, tube_r, exp_fac):\n",
    "    if exp_fac is not None:\n",
    "        data_dir = os.path.join(base_path, '%s/%s_%s_%s_%s/'%(driver, period, post_amp, tube_r, exp_fac))\n",
    "    else:\n",
    "        data_dir = os.path.join(base_path, '%s/%s_%s_%s/'%(driver, period, post_amp, tube_r))\n",
    "    \n",
    "    return data_dir"
   ]
  },
  {
   "cell_type": "code",
   "execution_count": 4,
   "metadata": {
    "collapsed": false
   },
   "outputs": [],
   "source": [
    "def get_data(base_path, driver, tube_r, exp_fac):\n",
    "\n",
    "    post_amp = \"A10\"\n",
    "    period = \"p240\"\n",
    "\n",
    "    data_dir = get_filepath(base_path, driver, period, post_amp, tube_r, exp_fac)\n",
    "\n",
    "    def path_join(filename):\n",
    "        return os.path.join(data_dir, filename)\n",
    "\n",
    "    all_svphi = np.load(path_join(\"LineVar_%s_%s_%s_vphi.npy\"%(driver,period,post_amp))).T\n",
    "    all_svperp = np.load(path_join(\"LineVar_%s_%s_%s_vperp.npy\"%(driver,period,post_amp))).T\n",
    "    all_svpar = np.load(path_join(\"LineVar_%s_%s_%s_vpar.npy\"%(driver,period,post_amp))).T\n",
    "    all_spoints = np.load(path_join(\"LineVar_%s_%s_%s_points.npy\"%(driver,period,post_amp)))[:,::-1,:]\n",
    "    all_times = np.load(path_join(\"LineVar_%s_%s_%s_times.npy\"%(driver,period,post_amp)))[:,0]\n",
    "\n",
    "    beta_line = np.load(path_join(\"LineFlux_%s_%s_%s_beta.npy\"%(driver,period,post_amp))).T\n",
    "    height_Mm = np.load(os.path.join(base_path, \"heightMM.npy\"))\n",
    "    f = interp1d(np.linspace(0,128,128),height_Mm)\n",
    "    y = f(all_spoints[0,:,2])\n",
    "    \n",
    "    if post_amp in ['A02k', 'A10']:\n",
    "        data = [all_svpar * 1e3, all_svperp * 1e3, all_svphi * 1e3]\n",
    "    else:\n",
    "        data = [all_svpar, all_svperp, all_svphi]\n",
    "\n",
    "    return y, data, beta_line, all_times, all_spoints\n"
   ]
  },
  {
   "cell_type": "code",
   "execution_count": 12,
   "metadata": {
    "collapsed": true
   },
   "outputs": [],
   "source": [
    "post_amp = \"A10\"\n",
    "period = \"p240\""
   ]
  },
  {
   "cell_type": "code",
   "execution_count": 13,
   "metadata": {
    "collapsed": true
   },
   "outputs": [],
   "source": [
    "def path_join(filename):\n",
    "    return os.path.join(data_dir, filename)"
   ]
  },
  {
   "cell_type": "code",
   "execution_count": 15,
   "metadata": {
    "collapsed": true
   },
   "outputs": [],
   "source": [
    "data_dir = get_filepath(base_path, driver, period, post_amp, tube_r, exp_fac)"
   ]
  },
  {
   "cell_type": "code",
   "execution_count": 18,
   "metadata": {
    "collapsed": false
   },
   "outputs": [
    {
     "ename": "IOError",
     "evalue": "[Errno 2] No such file or directory: '/home/stuart/GitHub/Thesis/thesis/Chapter4/Data/horiz/p240_A10_r30/LineVar_horiz_p240_A10_bphi.npy'",
     "output_type": "error",
     "traceback": [
      "\u001b[1;31m---------------------------------------------------------------------------\u001b[0m",
      "\u001b[1;31mIOError\u001b[0m                                   Traceback (most recent call last)",
      "\u001b[1;32m<ipython-input-18-cfcc4fd1b438>\u001b[0m in \u001b[0;36m<module>\u001b[1;34m()\u001b[0m\n\u001b[1;32m----> 1\u001b[1;33m \u001b[0mall_svphi\u001b[0m \u001b[1;33m=\u001b[0m \u001b[0mnp\u001b[0m\u001b[1;33m.\u001b[0m\u001b[0mload\u001b[0m\u001b[1;33m(\u001b[0m\u001b[0mpath_join\u001b[0m\u001b[1;33m(\u001b[0m\u001b[1;34m\"LineVar_%s_%s_%s_bphi.npy\"\u001b[0m\u001b[1;33m%\u001b[0m\u001b[1;33m(\u001b[0m\u001b[0mdriver\u001b[0m\u001b[1;33m,\u001b[0m\u001b[0mperiod\u001b[0m\u001b[1;33m,\u001b[0m\u001b[0mpost_amp\u001b[0m\u001b[1;33m)\u001b[0m\u001b[1;33m)\u001b[0m\u001b[1;33m)\u001b[0m\u001b[1;33m.\u001b[0m\u001b[0mT\u001b[0m\u001b[1;33m\u001b[0m\u001b[0m\n\u001b[0m",
      "\u001b[1;32m/opt/miniconda/envs/thesis/lib/python2.7/site-packages/numpy/lib/npyio.pyc\u001b[0m in \u001b[0;36mload\u001b[1;34m(file, mmap_mode, allow_pickle, fix_imports, encoding)\u001b[0m\n\u001b[0;32m    360\u001b[0m     \u001b[0mown_fid\u001b[0m \u001b[1;33m=\u001b[0m \u001b[0mFalse\u001b[0m\u001b[1;33m\u001b[0m\u001b[0m\n\u001b[0;32m    361\u001b[0m     \u001b[1;32mif\u001b[0m \u001b[0misinstance\u001b[0m\u001b[1;33m(\u001b[0m\u001b[0mfile\u001b[0m\u001b[1;33m,\u001b[0m \u001b[0mbasestring\u001b[0m\u001b[1;33m)\u001b[0m\u001b[1;33m:\u001b[0m\u001b[1;33m\u001b[0m\u001b[0m\n\u001b[1;32m--> 362\u001b[1;33m         \u001b[0mfid\u001b[0m \u001b[1;33m=\u001b[0m \u001b[0mopen\u001b[0m\u001b[1;33m(\u001b[0m\u001b[0mfile\u001b[0m\u001b[1;33m,\u001b[0m \u001b[1;34m\"rb\"\u001b[0m\u001b[1;33m)\u001b[0m\u001b[1;33m\u001b[0m\u001b[0m\n\u001b[0m\u001b[0;32m    363\u001b[0m         \u001b[0mown_fid\u001b[0m \u001b[1;33m=\u001b[0m \u001b[0mTrue\u001b[0m\u001b[1;33m\u001b[0m\u001b[0m\n\u001b[0;32m    364\u001b[0m     \u001b[1;32melse\u001b[0m\u001b[1;33m:\u001b[0m\u001b[1;33m\u001b[0m\u001b[0m\n",
      "\u001b[1;31mIOError\u001b[0m: [Errno 2] No such file or directory: '/home/stuart/GitHub/Thesis/thesis/Chapter4/Data/horiz/p240_A10_r30/LineVar_horiz_p240_A10_bphi.npy'"
     ]
    }
   ],
   "source": [
    "all_svphi = np.load(path_join(\"LineVar_%s_%s_%s_bphi.npy\"%(driver,period,post_amp))).T"
   ]
  },
  {
   "cell_type": "code",
   "execution_count": 17,
   "metadata": {
    "collapsed": false
   },
   "outputs": [
    {
     "data": {
      "text/plain": [
       "array([[ -5.46994655e-294,  -8.03036395e-202,   7.58764516e-152, ...,\n",
       "         -1.22777400e-002,  -1.22348975e-002,  -1.21560936e-002],\n",
       "       [ -1.50449953e-288,  -6.28780106e-198,   2.00777923e-149, ...,\n",
       "         -1.19903450e-002,  -1.18946192e-002,  -1.18059467e-002],\n",
       "       [ -1.97833238e-283,  -2.75358305e-194,   4.24935998e-147, ...,\n",
       "         -1.28739293e-002,  -1.27011008e-002,  -1.26034305e-002],\n",
       "       ..., \n",
       "       [  1.25299805e-008,   3.14171138e-008,  -1.46725509e-008, ...,\n",
       "          1.10293728e-002,   1.16341058e-002,   1.19855610e-002],\n",
       "       [  2.28042904e-009,   5.83719902e-009,  -1.14978963e-009, ...,\n",
       "         -2.35245680e-002,  -2.33142927e-002,  -2.31627891e-002],\n",
       "       [  0.00000000e+000,   0.00000000e+000,   0.00000000e+000, ...,\n",
       "         -8.92190977e-003,  -9.03787234e-003,  -9.09364161e-003]])"
      ]
     },
     "execution_count": 17,
     "metadata": {},
     "output_type": "execute_result"
    }
   ],
   "source": [
    "all_svphi"
   ]
  },
  {
   "cell_type": "code",
   "execution_count": 5,
   "metadata": {
    "collapsed": true
   },
   "outputs": [],
   "source": [
    "def get_speeds(base_path, driver, tube_r, exp_fac):\n",
    "\n",
    "    post_amp = \"A10\"\n",
    "    period = \"p240\"\n",
    "\n",
    "    data_dir = get_filepath(base_path, driver, period, post_amp, tube_r, exp_fac)    \n",
    "\n",
    "    def path_join(filename):\n",
    "        return os.path.join(data_dir, filename)\n",
    "    \n",
    "    cs_line = np.load(path_join(\"LineFlux_%s_%s_%s_cs.npy\"%(driver,period,post_amp))).T\n",
    "    va_line = np.load(path_join(\"LineFlux_%s_%s_%s_va.npy\"%(driver,period,post_amp))).T\n",
    "    \n",
    "    return cs_line, va_line"
   ]
  },
  {
   "cell_type": "code",
   "execution_count": 6,
   "metadata": {
    "collapsed": false
   },
   "outputs": [],
   "source": [
    "y, data, beta_line, all_times, all_spoints = get_data(base_path, 'Sarch', 'r30', 'B0005')"
   ]
  },
  {
   "cell_type": "code",
   "execution_count": 7,
   "metadata": {
    "collapsed": false
   },
   "outputs": [
    {
     "data": {
      "text/plain": [
       "((145,), [(145, 588), (145, 588), (145, 588)])"
      ]
     },
     "execution_count": 7,
     "metadata": {},
     "output_type": "execute_result"
    }
   ],
   "source": [
    "y.shape, [x.shape for x in data]"
   ]
  },
  {
   "cell_type": "code",
   "execution_count": 8,
   "metadata": {
    "collapsed": false
   },
   "outputs": [
    {
     "ename": "NameError",
     "evalue": "name 'plot_paper1_td' is not defined",
     "output_type": "error",
     "traceback": [
      "\u001b[1;31m---------------------------------------------------------------------------\u001b[0m",
      "\u001b[1;31mNameError\u001b[0m                                 Traceback (most recent call last)",
      "\u001b[1;32m<ipython-input-8-ea8c5dcd8f4b>\u001b[0m in \u001b[0;36m<module>\u001b[1;34m()\u001b[0m\n\u001b[0;32m      9\u001b[0m     \u001b[0mva_line\u001b[0m\u001b[1;33m,\u001b[0m \u001b[0mcs_line\u001b[0m \u001b[1;33m=\u001b[0m \u001b[0mget_speeds\u001b[0m\u001b[1;33m(\u001b[0m\u001b[0mbase_path\u001b[0m\u001b[1;33m,\u001b[0m \u001b[0mdriver\u001b[0m\u001b[1;33m,\u001b[0m \u001b[0mtube_r\u001b[0m\u001b[1;33m,\u001b[0m \u001b[0mexp_fac\u001b[0m\u001b[1;33m)\u001b[0m\u001b[1;33m\u001b[0m\u001b[0m\n\u001b[0;32m     10\u001b[0m \u001b[1;33m\u001b[0m\u001b[0m\n\u001b[1;32m---> 11\u001b[1;33m     \u001b[0mfig\u001b[0m\u001b[1;33m,\u001b[0m \u001b[0maxes\u001b[0m \u001b[1;33m=\u001b[0m \u001b[0mplot_paper1_td\u001b[0m\u001b[1;33m(\u001b[0m\u001b[0mdata\u001b[0m\u001b[1;33m,\u001b[0m \u001b[0my\u001b[0m\u001b[1;33m,\u001b[0m \u001b[0mbeta_line\u001b[0m\u001b[1;33m,\u001b[0m \u001b[0mtube_r\u001b[0m\u001b[1;33m)\u001b[0m\u001b[1;33m\u001b[0m\u001b[0m\n\u001b[0m\u001b[0;32m     12\u001b[0m     \u001b[0moverplot_speeds\u001b[0m\u001b[1;33m(\u001b[0m\u001b[0maxes\u001b[0m\u001b[1;33m,\u001b[0m \u001b[0my\u001b[0m\u001b[1;33m,\u001b[0m \u001b[0mva_line\u001b[0m\u001b[1;33m,\u001b[0m \u001b[0mcs_line\u001b[0m\u001b[1;33m)\u001b[0m\u001b[1;33m\u001b[0m\u001b[0m\n",
      "\u001b[1;31mNameError\u001b[0m: name 'plot_paper1_td' is not defined"
     ]
    }
   ],
   "source": [
    "base_path = '/home/stuart/GitHub/Thesis/thesis/Chapter4/Data/'\n",
    "tube_r = 'r30'\n",
    "drivers = ['horiz', 'vert', 'Suni', 'Sarch', 'Slog']\n",
    "exp_facs = [None, None, 'B0', 'B0005', 'B005']\n",
    "\n",
    "\n",
    "for driver, exp_fac in zip(drivers, exp_facs):\n",
    "    y, data, beta_line, all_times, all_spoints = get_data(base_path, driver, tube_r, exp_fac)\n",
    "    va_line, cs_line = get_speeds(base_path, driver, tube_r, exp_fac)\n",
    "    \n",
    "    fig, axes = plot_paper1_td(data, y, beta_line, tube_r)\n",
    "    overplot_speeds(axes, y, va_line, cs_line)"
   ]
  },
  {
   "cell_type": "markdown",
   "metadata": {},
   "source": [
    "Coordinate Stability Graph"
   ]
  },
  {
   "cell_type": "code",
   "execution_count": 28,
   "metadata": {
    "collapsed": false
   },
   "outputs": [
    {
     "data": {
      "text/plain": [
       "[0, 600.03848050060856, 0, 128]"
      ]
     },
     "execution_count": 28,
     "metadata": {},
     "output_type": "execute_result"
    }
   ],
   "source": [
    "fig1 = plt.figure()\n",
    "plt.title(\"Coordinate Stability\")\n",
    "plt.plot(all_times, all_spoints[:,:,2]) # Plot the variation in x coordinate.\n",
    "plt.ylabel(\"Z-coordinate\")\n",
    "plt.xlabel(\"Time\")\n",
    "plt.axis([0,max(all_times),0, 128])"
   ]
  },
  {
   "cell_type": "code",
   "execution_count": 33,
   "metadata": {
    "collapsed": false
   },
   "outputs": [],
   "source": [
    "#==============================================================================\n",
    "# Plot Time-Distance Graphs in a loop for subplots\n",
    "#==============================================================================\n",
    "def plot_paper1_td(data, y, beta_line, tube_r, fig_size=None):\n",
    "    \n",
    "    xxlim = -150\n",
    "    x = all_times[:xxlim]\n",
    "    lim = lambda vel: np.max([vel.max(),np.abs(vel.min())])\n",
    "    def lim(vel):\n",
    "        scope = np.median(vel) + 4 * np.std(np.array(vel))\n",
    "        return scope\n",
    "    def betaswap(b,pos):\n",
    "        return \"$%3.0f$\"%(1./b)\n",
    "\n",
    "    #cmap = 'gist_yarg'\n",
    "    cmap = 'RdBu_r'\n",
    "    \n",
    "    fig, axes = plt.subplots(nrows=3, ncols=1, sharex=True, figsize=fig_size)\n",
    "    #plt.subplots_adjust(left=0.1,right=0.97,top=0.94,bottom=0.10)\n",
    "\n",
    "    if tube_r == \"r30\":\n",
    "        manual_locations = [(75, 1.4), (25, 1.0), (50, 0.2), (25, 0.01)]\n",
    "    else:\n",
    "        manual_locations = False\n",
    "\n",
    "\n",
    "    colorbars = []\n",
    "    for i in range(0,3):\n",
    "\n",
    "        im = NonUniformImage(axes[i], interpolation='nearest', extent=[x.min(),x.max(),y.min(),y.max()], rasterized=True)\n",
    "        im.set_cmap(cmap)\n",
    "        im.set_clim(vmax=lim(data[i][:,:xxlim]),vmin=-lim(data[i][:,:xxlim]))\n",
    "        im.set_data(x,y,np.array(data[i])[::-1,:xxlim])\n",
    "\n",
    "        axes[i].images.append(im)\n",
    "        axes[i].set_xlim(x.min(),x.max())\n",
    "        axes[i].set_ylim(y.min(),y.max())\n",
    "        colorbars.append(plt.colorbar(im,ax=axes[i],aspect=10))\n",
    "        ct = axes[i].contour(x,y,beta_line[:,:xxlim],colors=['k'],levels=[1.,1/3.,1/5.,1/7.,1/10.,1/100.])\n",
    "        plt.clabel(ct,fontsize=18,inline_spacing=1, manual=manual_locations,fmt=mpl.ticker.FuncFormatter(betaswap))\n",
    "\n",
    "    colorbars[0].ax.set_ylabel(r\"V$_\\parallel$ [m/s]\")\n",
    "    colorbars[1].ax.set_ylabel(r\"V$_\\perp$ [m/s]\")\n",
    "    colorbars[2].ax.set_ylabel(r\"V$_\\phi$ [m/s]\")\n",
    "\n",
    "    for cbar in colorbars:\n",
    "        cbar.solids.set_edgecolor(\"face\")\n",
    "\n",
    "    #Labels\n",
    "    axes[2].set_xlabel(\"Time [seconds]\")\n",
    "    axes[0].set_ylabel(\"Height [Mm]\")\n",
    "    axes[1].set_ylabel(\"Height [Mm]\")\n",
    "    axes[2].set_ylabel(\"Height [Mm]\")\n",
    "\n",
    "    return fig, axes\n"
   ]
  },
  {
   "cell_type": "code",
   "execution_count": 34,
   "metadata": {
    "collapsed": false
   },
   "outputs": [],
   "source": [
    "fig, axes = plot_paper1_td(data, y, beta_line, 'r30')"
   ]
  },
  {
   "cell_type": "code",
   "execution_count": 43,
   "metadata": {
    "collapsed": false
   },
   "outputs": [],
   "source": [
    "va_line, cs_line = get_speeds(base_path, 'horiz', 'r30', None)"
   ]
  },
  {
   "cell_type": "code",
   "execution_count": 44,
   "metadata": {
    "collapsed": false
   },
   "outputs": [],
   "source": [
    "def overplot_speeds(axes, y, va_line, cs_line):\n",
    "    delta_x = np.zeros(y.shape)\n",
    "    delta_x[1:] = y[1:] - y[:-1]\n",
    "\n",
    "    delta_t_va = delta_x*1e6 / va_line[:,0]\n",
    "    delta_t_cs = delta_x*1e6 / cs_line[:,0]\n",
    "    delta_t_vf = delta_x*1e6 / np.sqrt(cs_line[:,0]**2 + va_line[:,0]**2)\n",
    "    delta_t_vs = delta_x*1e6 / np.sqrt(cs_line[:,0]**-2 + va_line[:,0]**-2)**-1\n",
    "\n",
    "    ti = 60\n",
    "    t_va = np.cumsum(delta_t_va) + ti\n",
    "    t_cs = np.cumsum(delta_t_cs) + ti\n",
    "    t_vf = np.cumsum(delta_t_vf) + ti\n",
    "    t_vs = np.cumsum(delta_t_vs) + ti\n",
    "\n",
    "    for i in range(0,3):\n",
    "        axes[i].plot(t_va, y, label=r\"$V_A$\", linewidth=2, linestyle=':', color='k')#b\n",
    "        axes[i].plot(t_cs, y, label=r\"$C_s$\", linewidth=2, linestyle='--', color='k')#g\n",
    "        axes[i].plot(t_vf, y, label=r\"$V_f$\", linewidth=2, linestyle='-.', color='k')#r\n",
    "        axes[i].plot(t_vs, y, label=r\"$V_s$\", linewidth=2, linestyle='-', color='k')#c\n"
   ]
  },
  {
   "cell_type": "code",
   "execution_count": 45,
   "metadata": {
    "collapsed": false
   },
   "outputs": [],
   "source": [
    "overplot_speeds(axes, y, va_line, cs_line)"
   ]
  },
  {
   "cell_type": "code",
   "execution_count": 69,
   "metadata": {
    "collapsed": false
   },
   "outputs": [],
   "source": [
    "fig = plt.figure()\n",
    "im = plt.imshow(data[0])\n",
    "cbar = plt.colorbar()\n",
    "cbar.values?"
   ]
  },
  {
   "cell_type": "code",
   "execution_count": null,
   "metadata": {
    "collapsed": true
   },
   "outputs": [],
   "source": []
  }
 ],
 "metadata": {
  "kernelspec": {
   "display_name": "Environment (thesis)",
   "language": "",
   "name": "thesis"
  },
  "language_info": {
   "codemirror_mode": {
    "name": "ipython",
    "version": 2
   },
   "file_extension": ".py",
   "mimetype": "text/x-python",
   "name": "python",
   "nbconvert_exporter": "python",
   "pygments_lexer": "ipython2",
   "version": "2.7.10"
  }
 },
 "nbformat": 4,
 "nbformat_minor": 0
}
