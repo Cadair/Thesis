{
 "cells": [
  {
   "cell_type": "code",
   "execution_count": 1,
   "metadata": {
    "collapsed": true
   },
   "outputs": [],
   "source": [
    "from __future__ import print_function"
   ]
  },
  {
   "cell_type": "code",
   "execution_count": 14,
   "metadata": {
    "collapsed": true
   },
   "outputs": [],
   "source": [
    "from functools import partial\n",
    "\n",
    "%matplotlib inline\n",
    "import matplotlib as mpl\n",
    "import matplotlib.pyplot as plt\n",
    "import astropy.units as u\n",
    "import numpy as np\n",
    "\n",
    "from astropy.modeling import models, fitting"
   ]
  },
  {
   "cell_type": "markdown",
   "metadata": {},
   "source": [
    "Now we try and build the mfe single tube model."
   ]
  },
  {
   "cell_type": "code",
   "execution_count": 3,
   "metadata": {
    "collapsed": false
   },
   "outputs": [
    {
     "name": "stderr",
     "output_type": "stream",
     "text": [
      "WARNING:traits.has_traits:DEPRECATED: traits.has_traits.wrapped_class, 'the 'implements' class advisor has been deprecated. Use the 'provides' class decorator.\n"
     ]
    }
   ],
   "source": [
    "import pysac.mhs_atmosphere as atm\n",
    "from pysac.mhs_atmosphere.parameters.model_pars import mfe_setup as model_pars"
   ]
  },
  {
   "cell_type": "code",
   "execution_count": 86,
   "metadata": {
    "collapsed": false
   },
   "outputs": [],
   "source": [
    "# Cheeky Reset to Photosphere\n",
    "#model_pars['xyz'][4] = 0*u.Mm\n",
    "model_pars['radial_scale'] = 0.03938*u.Mm"
   ]
  },
  {
   "cell_type": "code",
   "execution_count": 87,
   "metadata": {
    "collapsed": false
   },
   "outputs": [
    {
     "name": "stdout",
     "output_type": "stream",
     "text": [
      "B_corona 0.000485 T\n",
      "coratio 0.0\n",
      "chratio 1.0\n",
      "radial_scale 0.03938 Mm\n",
      "chrom_scale 0.4 Mm\n",
      "corona_scale 0.25 Mm\n",
      "xyz [<Quantity -1.0 Mm>, <Quantity 1.0 Mm>, <Quantity -1.0 Mm>, <Quantity 1.0 Mm>, <Quantity 0.035 Mm>, <Quantity 1.6 Mm>]\n"
     ]
    }
   ],
   "source": [
    "keys = ['B_corona', 'coratio', 'chratio', 'radial_scale', 'chrom_scale', 'corona_scale', 'xyz']\n",
    "for key in keys:\n",
    "    print(key, model_pars[key])"
   ]
  },
  {
   "cell_type": "code",
   "execution_count": 88,
   "metadata": {
    "collapsed": false
   },
   "outputs": [],
   "source": [
    "# model setup\n",
    "scales, physical_constants = atm.units_const.get_parameters()\n",
    "option_pars = atm.options.set_options(model_pars, False, l_gdf=True)\n",
    "coords = atm.model_pars.get_coords(model_pars['Nxyz'], u.Quantity(model_pars['xyz']))\n",
    "\n",
    "#interpolate the hs 1D profiles from empirical data source[s]\n",
    "empirical_data = atm.hs_atmosphere.read_VAL3c_MTW(mu=physical_constants['mu'])\n",
    "table = atm.hs_atmosphere.interpolate_atmosphere(empirical_data, coords['Zext'])"
   ]
  },
  {
   "cell_type": "code",
   "execution_count": 89,
   "metadata": {
    "collapsed": false
   },
   "outputs": [],
   "source": [
    "#==============================================================================\n",
    "#calculate 1d hydrostatic balance from empirical density profile\n",
    "#==============================================================================\n",
    "# the hs pressure balance is enhanced by pressure equivalent to the\n",
    "# residual mean coronal magnetic pressure contribution once the magnetic\n",
    "# field has been applied\n",
    "magp_meanz = np.ones(len(coords['Z'])) * u.one\n",
    "magp_meanz *= model_pars['pBplus']**2/(2*physical_constants['mu0'])\n",
    "\n",
    "pressure_z, rho_z, Rgas_z = atm.hs_atmosphere.vertical_profile(coords['Z'], table, magp_meanz,\n",
    "                                                               physical_constants, coords['dz'])"
   ]
  },
  {
   "cell_type": "code",
   "execution_count": 90,
   "metadata": {
    "collapsed": false
   },
   "outputs": [],
   "source": [
    "x, y, z = u.Quantity(np.mgrid[coords['xmin']:coords['xmax']:1j*model_pars['Nxyz'][0],\n",
    "                              coords['ymin']:coords['ymax']:1j*model_pars['Nxyz'][1],\n",
    "                              coords['zmin']:coords['zmax']:1j*model_pars['Nxyz'][2]], unit=coords['xmin'].unit)"
   ]
  },
  {
   "cell_type": "code",
   "execution_count": 91,
   "metadata": {
    "collapsed": false
   },
   "outputs": [],
   "source": [
    "xi, yi, Si = atm.flux_tubes.get_flux_tubes(model_pars, coords, option_pars)"
   ]
  },
  {
   "cell_type": "code",
   "execution_count": 92,
   "metadata": {
    "collapsed": false
   },
   "outputs": [
    {
     "name": "stderr",
     "output_type": "stream",
     "text": [
      "/home/stuart/GitHub/SWAT/pysac/pysac/mhs_atmosphere/mhs_model/flux_tubes.py:303: Warning: pbbal.max() = -0.0860956724487 kg / (m s2)\n",
      "  warnings.warn(\"pbbal.max() = {}\".format(pbbal.max().decompose()), Warning)\n"
     ]
    }
   ],
   "source": [
    "allmag = atm.flux_tubes.construct_magnetic_field(x, y, z,\n",
    "                                                 xi[0], yi[0], Si[0],\n",
    "                                                 model_pars, option_pars,\n",
    "                                                 physical_constants,\n",
    "                                                 scales)\n",
    "pressure_m, rho_m, Bx, By ,Bz, Btensx, Btensy = allmag"
   ]
  },
  {
   "cell_type": "code",
   "execution_count": 93,
   "metadata": {
    "collapsed": false
   },
   "outputs": [],
   "source": [
    "# local proc 3D mhs arrays\n",
    "pressure, rho = atm.mhs_3D.mhs_3D_profile(z,\n",
    "                                          pressure_z,\n",
    "                                          rho_z,\n",
    "                                          pressure_m,\n",
    "                                          rho_m)\n",
    "magp = (Bx**2 + By**2 + Bz**2) / (2.*physical_constants['mu0'])\n",
    "energy = atm.mhs_3D.get_internal_energy(pressure, magp, physical_constants)"
   ]
  },
  {
   "cell_type": "code",
   "execution_count": 94,
   "metadata": {
    "collapsed": false
   },
   "outputs": [
    {
     "data": {
      "text/latex": [
       "$[102.43726,~186.70377] \\; \\mathrm{km}$"
      ],
      "text/plain": [
       "<Quantity [ 102.43726264, 186.70376611] km>"
      ]
     },
     "execution_count": 94,
     "metadata": {},
     "output_type": "execute_result"
    }
   ],
   "source": [
    "x_lin = np.linspace(coords['xmin'], coords['xmax'], model_pars['Nxyz'][0])\n",
    "bmag = np.sqrt((Bx**2 + By**2 + Bz**2))[:,64,0].to(u.mT)\n",
    "\n",
    "gaussian = models.Gaussian1D()\n",
    "bmag_fit = fitting.LevMarLSQFitter()(gaussian, x_lin, bmag)\n",
    "\n",
    "fwhm = 2.*np.sqrt(2*np.log(2))*bmag_fit.stddev.value\n",
    "fwhm = np.abs(fwhm) * u.Mm\n",
    "\n",
    "fwtm = 2.*np.sqrt(2*np.log(10))*bmag_fit.stddev.value\n",
    "fwtm = np.abs(fwtm) * u.Mm\n",
    "\n",
    "u.Quantity([fwhm, fwtm]).to(u.km)"
   ]
  },
  {
   "cell_type": "code",
   "execution_count": 95,
   "metadata": {
    "collapsed": false
   },
   "outputs": [
    {
     "data": {
      "text/plain": [
       "<matplotlib.lines.Line2D at 0x7fc368eb4750>"
      ]
     },
     "execution_count": 95,
     "metadata": {},
     "output_type": "execute_result"
    },
    {
     "data": {
      "image/png": "[encoded data removed]",
      "text/plain": [
       "<matplotlib.figure.Figure at 0x7fc368b92f10>"
      ]
     },
     "metadata": {},
     "output_type": "display_data"
    }
   ],
   "source": [
    "%matplotlib inline\n",
    "fig = plt.figure(figsize=(15,8))\n",
    "plt.plot(x_lin, bmag.to(u.mT), 'x')\n",
    "X = np.linspace(coords['xmin'], coords['xmax'], 1000)\n",
    "plt.plot(X, bmag_fit(X.value))\n",
    "\n",
    "plt.xlabel(\"X [{}]\".format(x.unit))\n",
    "plt.ylabel(\"Magnetic Field Strength [{}]\".format(bmag.unit))\n",
    "plt.axhline(y=bmag_fit.amplitude.value/10)"
   ]
  },
  {
   "cell_type": "markdown",
   "metadata": {},
   "source": [
    "## Now for some plotting"
   ]
  },
  {
   "cell_type": "code",
   "execution_count": 14,
   "metadata": {
    "collapsed": true
   },
   "outputs": [],
   "source": [
    "import yt"
   ]
  },
  {
   "cell_type": "code",
   "execution_count": 15,
   "metadata": {
    "collapsed": false
   },
   "outputs": [],
   "source": [
    "def magnetic_field_strength(field, data):\n",
    "        return np.sqrt(data[\"magnetic_field_x\"]**2 + data[\"magnetic_field_y\"]**2 + data[\"magnetic_field_z\"]**2)\n",
    "yt.add_field((\"gas\",\"magnetic_field_strength\"),\n",
    "             function=magnetic_field_strength,\n",
    "             units = \"T\")"
   ]
  },
  {
   "cell_type": "code",
   "execution_count": 16,
   "metadata": {
    "collapsed": false
   },
   "outputs": [],
   "source": [
    "def plasma_beta(field, data):\n",
    "        return data['pressure'] / data['magnetic_pressure']\n",
    "yt.add_field((\"gas\",\"plasma_beta\"),\n",
    "             function=plasma_beta,\n",
    "             units = \"\")"
   ]
  },
  {
   "cell_type": "code",
   "execution_count": 17,
   "metadata": {
    "collapsed": false
   },
   "outputs": [],
   "source": [
    "def alfven_speed(field, data):\n",
    "    return np.sqrt(2.*data['magnetic_pressure']/data['density'])\n",
    "yt.add_field((\"gas\",\"alfven_speed\"),\n",
    "             function=alfven_speed,\n",
    "             units = \"m/s\")"
   ]
  },
  {
   "cell_type": "code",
   "execution_count": 18,
   "metadata": {
    "collapsed": false
   },
   "outputs": [],
   "source": [
    "def sound_speed(field, data):\n",
    "    cspeed = np.sqrt(physical_constants['gamma']*pressure/rho)\n",
    "    return cspeed\n",
    "yt.add_field((\"gas\",\"sound_speed\"),\n",
    "             function=sound_speed,\n",
    "             units = \"m/s\", force_override=True)"
   ]
  },
  {
   "cell_type": "code",
   "execution_count": 19,
   "metadata": {
    "collapsed": true
   },
   "outputs": [],
   "source": [
    "bbox = u.Quantity([u.Quantity([coords['xmin'], coords['xmax']]),\n",
    "                   u.Quantity([coords['ymin'], coords['ymax']]),\n",
    "                   u.Quantity([coords['zmin'], coords['zmax']])]).to(u.m).value"
   ]
  },
  {
   "cell_type": "code",
   "execution_count": 20,
   "metadata": {
    "collapsed": false
   },
   "outputs": [
    {
     "name": "stderr",
     "output_type": "stream",
     "text": [
      "yt : [INFO     ] 2015-09-02 11:38:39,824 Parameters: current_time              = 0.0\n",
      "yt : [INFO     ] 2015-09-02 11:38:39,825 Parameters: domain_dimensions         = [128 128 128]\n",
      "yt : [INFO     ] 2015-09-02 11:38:39,826 Parameters: domain_left_edge          = [-1000000. -1000000.    35000.]\n",
      "yt : [INFO     ] 2015-09-02 11:38:39,828 Parameters: domain_right_edge         = [ 1000000.  1000000.  1600000.]\n",
      "yt : [INFO     ] 2015-09-02 11:38:39,830 Parameters: cosmological_simulation   = 0.0\n"
     ]
    }
   ],
   "source": [
    "data = {'magnetic_field_x':yt.YTQuantity.from_astropy(Bx.decompose()),\n",
    "        'magnetic_field_y':yt.YTQuantity.from_astropy(By.decompose()),\n",
    "        'magnetic_field_z':yt.YTQuantity.from_astropy(Bz.decompose()),\n",
    "        'pressure': yt.YTQuantity.from_astropy(pressure.decompose()),\n",
    "        'magnetic_pressure': yt.YTQuantity.from_astropy(magp.decompose()),\n",
    "        'density': yt.YTQuantity.from_astropy(rho.decompose())}\n",
    "\n",
    "ds = yt.load_uniform_grid(data, x.shape,\n",
    "                          length_unit='m', magnetic_unit='T', mass_unit='kg',\n",
    "                          periodicity=[False]*3, bbox=bbox)"
   ]
  },
  {
   "cell_type": "code",
   "execution_count": null,
   "metadata": {
    "collapsed": false
   },
   "outputs": [],
   "source": []
  },
  {
   "cell_type": "code",
   "execution_count": 21,
   "metadata": {
    "collapsed": false
   },
   "outputs": [
    {
     "name": "stderr",
     "output_type": "stream",
     "text": [
      "yt : [INFO     ] 2015-09-02 11:38:39,960 Loading field plugins.\n",
      "yt : [INFO     ] 2015-09-02 11:38:39,961 Loaded angular_momentum (8 new fields)\n",
      "yt : [INFO     ] 2015-09-02 11:38:39,962 Loaded astro (15 new fields)\n",
      "yt : [INFO     ] 2015-09-02 11:38:39,963 Loaded cosmology (22 new fields)\n",
      "yt : [INFO     ] 2015-09-02 11:38:39,965 Loaded fluid (63 new fields)\n",
      "yt : [INFO     ] 2015-09-02 11:38:39,967 Loaded fluid_vector (95 new fields)\n",
      "yt : [INFO     ] 2015-09-02 11:38:39,969 Loaded geometric (111 new fields)\n",
      "yt : [INFO     ] 2015-09-02 11:38:39,970 Loaded local (115 new fields)\n",
      "yt : [INFO     ] 2015-09-02 11:38:39,972 Loaded magnetic_field (119 new fields)\n",
      "yt : [INFO     ] 2015-09-02 11:38:39,973 Loaded my_plugins (119 new fields)\n",
      "yt : [INFO     ] 2015-09-02 11:38:39,974 Loaded species (121 new fields)\n",
      "-c:2: RuntimeWarning: invalid value encountered in sqrt\n",
      "yt : [INFO     ] 2015-09-02 11:38:40,601 xlim = -1000000.000000 1000000.000000\n",
      "yt : [INFO     ] 2015-09-02 11:38:40,603 ylim = 35000.000000 1600000.000000\n",
      "yt : [INFO     ] 2015-09-02 11:38:40,612 xlim = -1000000.000000 1000000.000000\n",
      "yt : [INFO     ] 2015-09-02 11:38:40,614 ylim = 35000.000000 1600000.000000\n",
      "yt : [INFO     ] 2015-09-02 11:38:40,635 Making a fixed resolution buffer of (('gas', 'alfven_speed')) 800 by 800\n"
     ]
    },
    {
     "ename": "YTPlotCallbackError",
     "evalue": "annotate_streamlines callback failed with the following error: streamplot() got an unexpected keyword argument 'start_points'",
     "output_type": "error",
     "traceback": [
      "\u001b[1;31m---------------------------------------------------------------------------\u001b[0m",
      "\u001b[1;31mYTPlotCallbackError\u001b[0m                       Traceback (most recent call last)",
      "\u001b[1;32m/usr/lib/python2.7/site-packages/IPython/core/formatters.pyc\u001b[0m in \u001b[0;36m__call__\u001b[1;34m(self, obj)\u001b[0m\n\u001b[0;32m    339\u001b[0m             \u001b[0mmethod\u001b[0m \u001b[1;33m=\u001b[0m \u001b[0m_safe_get_formatter_method\u001b[0m\u001b[1;33m(\u001b[0m\u001b[0mobj\u001b[0m\u001b[1;33m,\u001b[0m \u001b[0mself\u001b[0m\u001b[1;33m.\u001b[0m\u001b[0mprint_method\u001b[0m\u001b[1;33m)\u001b[0m\u001b[1;33m\u001b[0m\u001b[0m\n\u001b[0;32m    340\u001b[0m             \u001b[1;32mif\u001b[0m \u001b[0mmethod\u001b[0m \u001b[1;32mis\u001b[0m \u001b[1;32mnot\u001b[0m \u001b[0mNone\u001b[0m\u001b[1;33m:\u001b[0m\u001b[1;33m\u001b[0m\u001b[0m\n\u001b[1;32m--> 341\u001b[1;33m                 \u001b[1;32mreturn\u001b[0m \u001b[0mmethod\u001b[0m\u001b[1;33m(\u001b[0m\u001b[1;33m)\u001b[0m\u001b[1;33m\u001b[0m\u001b[0m\n\u001b[0m\u001b[0;32m    342\u001b[0m             \u001b[1;32mreturn\u001b[0m \u001b[0mNone\u001b[0m\u001b[1;33m\u001b[0m\u001b[0m\n\u001b[0;32m    343\u001b[0m         \u001b[1;32melse\u001b[0m\u001b[1;33m:\u001b[0m\u001b[1;33m\u001b[0m\u001b[0m\n",
      "\u001b[1;32m/usr/lib/python2.7/site-packages/yt/visualization/plot_container.pyc\u001b[0m in \u001b[0;36mnewfunc\u001b[1;34m(*args, **kwargs)\u001b[0m\n\u001b[0;32m     74\u001b[0m             \u001b[0margs\u001b[0m\u001b[1;33m[\u001b[0m\u001b[1;36m0\u001b[0m\u001b[1;33m]\u001b[0m\u001b[1;33m.\u001b[0m\u001b[0m_setup_plots\u001b[0m\u001b[1;33m(\u001b[0m\u001b[1;33m)\u001b[0m\u001b[1;33m\u001b[0m\u001b[0m\n\u001b[0;32m     75\u001b[0m             \u001b[1;32mif\u001b[0m \u001b[0mhasattr\u001b[0m\u001b[1;33m(\u001b[0m\u001b[0margs\u001b[0m\u001b[1;33m[\u001b[0m\u001b[1;36m0\u001b[0m\u001b[1;33m]\u001b[0m\u001b[1;33m,\u001b[0m \u001b[1;34m'run_callbacks'\u001b[0m\u001b[1;33m)\u001b[0m\u001b[1;33m:\u001b[0m\u001b[1;33m\u001b[0m\u001b[0m\n\u001b[1;32m---> 76\u001b[1;33m                 \u001b[0margs\u001b[0m\u001b[1;33m[\u001b[0m\u001b[1;36m0\u001b[0m\u001b[1;33m]\u001b[0m\u001b[1;33m.\u001b[0m\u001b[0mrun_callbacks\u001b[0m\u001b[1;33m(\u001b[0m\u001b[1;33m)\u001b[0m\u001b[1;33m\u001b[0m\u001b[0m\n\u001b[0m\u001b[0;32m     77\u001b[0m         \u001b[0mrv\u001b[0m \u001b[1;33m=\u001b[0m \u001b[0mf\u001b[0m\u001b[1;33m(\u001b[0m\u001b[1;33m*\u001b[0m\u001b[0margs\u001b[0m\u001b[1;33m,\u001b[0m \u001b[1;33m**\u001b[0m\u001b[0mkwargs\u001b[0m\u001b[1;33m)\u001b[0m\u001b[1;33m\u001b[0m\u001b[0m\n\u001b[0;32m     78\u001b[0m         \u001b[1;32mreturn\u001b[0m \u001b[0mrv\u001b[0m\u001b[1;33m\u001b[0m\u001b[0m\n",
      "\u001b[1;32m/usr/lib/python2.7/site-packages/yt/visualization/plot_window.pyc\u001b[0m in \u001b[0;36mrun_callbacks\u001b[1;34m(self)\u001b[0m\n\u001b[0;32m   1027\u001b[0m                     six.reraise(YTPlotCallbackError,\n\u001b[0;32m   1028\u001b[0m                                 \u001b[0mYTPlotCallbackError\u001b[0m\u001b[1;33m(\u001b[0m\u001b[0mcallback\u001b[0m\u001b[1;33m.\u001b[0m\u001b[0m_type_name\u001b[0m\u001b[1;33m,\u001b[0m \u001b[0me\u001b[0m\u001b[1;33m)\u001b[0m\u001b[1;33m,\u001b[0m\u001b[1;33m\u001b[0m\u001b[0m\n\u001b[1;32m-> 1029\u001b[1;33m                                 sys.exc_info()[2])\n\u001b[0m\u001b[0;32m   1030\u001b[0m             \u001b[1;32mfor\u001b[0m \u001b[0mkey\u001b[0m \u001b[1;32min\u001b[0m \u001b[0mself\u001b[0m\u001b[1;33m.\u001b[0m\u001b[0mfrb\u001b[0m\u001b[1;33m.\u001b[0m\u001b[0mkeys\u001b[0m\u001b[1;33m(\u001b[0m\u001b[1;33m)\u001b[0m\u001b[1;33m:\u001b[0m\u001b[1;33m\u001b[0m\u001b[0m\n\u001b[0;32m   1031\u001b[0m                 \u001b[1;32mif\u001b[0m \u001b[0mkey\u001b[0m \u001b[1;32mnot\u001b[0m \u001b[1;32min\u001b[0m \u001b[0mkeys\u001b[0m\u001b[1;33m:\u001b[0m\u001b[1;33m\u001b[0m\u001b[0m\n",
      "\u001b[1;32m/usr/lib/python2.7/site-packages/yt/visualization/plot_window.pyc\u001b[0m in \u001b[0;36mrun_callbacks\u001b[1;34m(self)\u001b[0m\n\u001b[0;32m   1023\u001b[0m                 \u001b[0mcallback\u001b[0m \u001b[1;33m=\u001b[0m \u001b[0mCallbackMaker\u001b[0m\u001b[1;33m(\u001b[0m\u001b[1;33m*\u001b[0m\u001b[0margs\u001b[0m\u001b[1;33m[\u001b[0m\u001b[1;36m1\u001b[0m\u001b[1;33m:\u001b[0m\u001b[1;33m]\u001b[0m\u001b[1;33m,\u001b[0m \u001b[1;33m**\u001b[0m\u001b[0mkwargs\u001b[0m\u001b[1;33m)\u001b[0m\u001b[1;33m\u001b[0m\u001b[0m\n\u001b[0;32m   1024\u001b[0m                 \u001b[1;32mtry\u001b[0m\u001b[1;33m:\u001b[0m\u001b[1;33m\u001b[0m\u001b[0m\n\u001b[1;32m-> 1025\u001b[1;33m                     \u001b[0mcallback\u001b[0m\u001b[1;33m(\u001b[0m\u001b[0mcbw\u001b[0m\u001b[1;33m)\u001b[0m\u001b[1;33m\u001b[0m\u001b[0m\n\u001b[0m\u001b[0;32m   1026\u001b[0m                 \u001b[1;32mexcept\u001b[0m \u001b[0mException\u001b[0m \u001b[1;32mas\u001b[0m \u001b[0me\u001b[0m\u001b[1;33m:\u001b[0m\u001b[1;33m\u001b[0m\u001b[0m\n\u001b[0;32m   1027\u001b[0m                     six.reraise(YTPlotCallbackError,\n",
      "\u001b[1;32m/usr/lib/python2.7/site-packages/yt/visualization/plot_modifications.pyc\u001b[0m in \u001b[0;36m__call__\u001b[1;34m(self, plot)\u001b[0m\n\u001b[0;32m    699\u001b[0m                            'density': self.dens, 'color':self.field_color}\n\u001b[0;32m    700\u001b[0m         \u001b[0mstreamplot_args\u001b[0m\u001b[1;33m.\u001b[0m\u001b[0mupdate\u001b[0m\u001b[1;33m(\u001b[0m\u001b[0mself\u001b[0m\u001b[1;33m.\u001b[0m\u001b[0mplot_args\u001b[0m\u001b[1;33m)\u001b[0m\u001b[1;33m\u001b[0m\u001b[0m\n\u001b[1;32m--> 701\u001b[1;33m         \u001b[0mplot\u001b[0m\u001b[1;33m.\u001b[0m\u001b[0m_axes\u001b[0m\u001b[1;33m.\u001b[0m\u001b[0mstreamplot\u001b[0m\u001b[1;33m(\u001b[0m\u001b[1;33m**\u001b[0m\u001b[0mstreamplot_args\u001b[0m\u001b[1;33m)\u001b[0m\u001b[1;33m\u001b[0m\u001b[0m\n\u001b[0m\u001b[0;32m    702\u001b[0m         \u001b[0mplot\u001b[0m\u001b[1;33m.\u001b[0m\u001b[0m_axes\u001b[0m\u001b[1;33m.\u001b[0m\u001b[0mset_xlim\u001b[0m\u001b[1;33m(\u001b[0m\u001b[0mxx0\u001b[0m\u001b[1;33m,\u001b[0m\u001b[0mxx1\u001b[0m\u001b[1;33m)\u001b[0m\u001b[1;33m\u001b[0m\u001b[0m\n\u001b[0;32m    703\u001b[0m         \u001b[0mplot\u001b[0m\u001b[1;33m.\u001b[0m\u001b[0m_axes\u001b[0m\u001b[1;33m.\u001b[0m\u001b[0mset_ylim\u001b[0m\u001b[1;33m(\u001b[0m\u001b[0myy0\u001b[0m\u001b[1;33m,\u001b[0m\u001b[0myy1\u001b[0m\u001b[1;33m)\u001b[0m\u001b[1;33m\u001b[0m\u001b[0m\n",
      "\u001b[1;31mYTPlotCallbackError\u001b[0m: annotate_streamlines callback failed with the following error: streamplot() got an unexpected keyword argument 'start_points'"
     ]
    },
    {
     "data": {
      "text/plain": [
       "<yt.visualization.plot_window.AxisAlignedSlicePlot at 0x7fa8e62f6950>"
      ]
     },
     "execution_count": 21,
     "metadata": {},
     "output_type": "execute_result"
    }
   ],
   "source": [
    "slc = yt.SlicePlot(ds, 'x', 'alfven_speed', origin='lower-center-domain', axes_unit='Mm')\n",
    "slc.set_cmap('all', 'OrRd')\n",
    "\n",
    "seed_points = np.zeros([11,2]) + 1.52\n",
    "seed_points[:,0] = np.linspace(-0.99, 0.95, seed_points.shape[0], endpoint=True)\n",
    "slc.annotate_streamlines('magnetic_field_y', 'magnetic_field_z', field_color='magnetic_field_strength',\n",
    "                         plot_args={'start_points':seed_points, 'density':15, 'cmap':'winter',\n",
    "                                    'norm': mpl.colors.LogNorm(*ds.all_data().quantities.extrema(\"magnetic_field_strength\"))})\n",
    "slc.annotate_contour('plasma_beta', label=True)"
   ]
  },
  {
   "cell_type": "code",
   "execution_count": null,
   "metadata": {
    "collapsed": false,
    "scrolled": false
   },
   "outputs": [],
   "source": [
    "slc = yt.SlicePlot(ds, 'x', 'magnetic_field_strength', origin='lower-center-domain',\n",
    "                   axes_unit='Mm')\n",
    "slc.set_cmap('all', 'BuPu')\n",
    "#slc.annotate_contour('plasma_beta')\n",
    "\n",
    "seed_points = np.zeros([11,2]) + 1.52\n",
    "seed_points[:,0] = np.linspace(-0.99, 0.95, seed_points.shape[0], endpoint=True)\n",
    "slc.annotate_streamlines('magnetic_field_y', 'magnetic_field_z', field_color='magnetic_field_strength',\n",
    "                         plot_args={'start_points':seed_points, 'density':15, 'cmap':'winter', 'linewidth': 2,\n",
    "                                    'norm': slc.plots['magnetic_field_strength'].image.norm})"
   ]
  },
  {
   "cell_type": "code",
   "execution_count": null,
   "metadata": {
    "collapsed": false
   },
   "outputs": [],
   "source": [
    "slc = yt.SlicePlot(ds, 'z', 'magnetic_field_strength', origin='center-domain',\n",
    "                   axes_unit='km', center=(\"max\", \"magnetic_field_strength\"), width=(0.5, \"Mm\"))\n",
    "slc.set_cmap('all', 'Oranges')\n",
    "slc.annotate_contour('magnetic_field_strength', take_log=False,\n",
    "                     plot_args={'levels':[ds.all_data().quantities.extrema(\"magnetic_field_strength\")[1]/2.],\n",
    "                                'linewidths':3,\n",
    "                                'colors':'black'})"
   ]
  },
  {
   "cell_type": "markdown",
   "metadata": {
    "collapsed": true
   },
   "source": [
    "# Comparing pysac to the Original Data"
   ]
  },
  {
   "cell_type": "code",
   "execution_count": null,
   "metadata": {
    "collapsed": true
   },
   "outputs": [],
   "source": [
    "%matplotlib inline"
   ]
  },
  {
   "cell_type": "code",
   "execution_count": null,
   "metadata": {
    "collapsed": false
   },
   "outputs": [],
   "source": [
    "import numpy as np\n",
    "import matplotlib.pyplot as plt\n",
    "\n",
    "import astropy.units as u\n",
    "\n",
    "import yt\n",
    "import pysac.yt\n",
    "\n",
    "from astropy.modeling import models, fitting"
   ]
  },
  {
   "cell_type": "code",
   "execution_count": null,
   "metadata": {
    "collapsed": false
   },
   "outputs": [],
   "source": [
    "ds = yt.load('/home/stuart/GitHub/Thesis/thesis/Chapter3/Data/Slog_p240-0_A10_B005_00001.gdf')\n",
    "type(ds)"
   ]
  },
  {
   "cell_type": "code",
   "execution_count": null,
   "metadata": {
    "collapsed": false
   },
   "outputs": [],
   "source": [
    "slc = yt.SlicePlot(ds, 'x', 'magnetic_field_strength', origin='lower-left-domain',\n",
    "                   axes_unit='Mm')\n",
    "slc.set_cmap('all', 'BuPu')\n",
    "slc.annotate_contour('plasma_beta')\n",
    "\n",
    "seed_points = np.zeros([11,2]) + 152\n",
    "seed_points[:,0] = np.linspace(5, 190, seed_points.shape[0], endpoint=True)\n",
    "slc.annotate_streamlines('mag_field_y', 'mag_field_z', field_color='magnetic_field_strength', \n",
    "                        plot_args={'start_points':seed_points, 'density':15, 'cmap':'winter', 'linewidth': 2,\n",
    "                                   'norm': slc.plots['magnetic_field_strength'].image.norm})\n",
    "slc.show()"
   ]
  },
  {
   "cell_type": "code",
   "execution_count": null,
   "metadata": {
    "collapsed": true
   },
   "outputs": [],
   "source": [
    "cg = ds.index.grids[0]"
   ]
  },
  {
   "cell_type": "code",
   "execution_count": null,
   "metadata": {
    "collapsed": false
   },
   "outputs": [],
   "source": [
    "xmin, xmax = ds.domain_left_edge[0]/1e6, ds.domain_right_edge[0]/1e8\n",
    "xmin = xmin.value\n",
    "xmax = xmax.value\n",
    "xmin, xmax"
   ]
  },
  {
   "cell_type": "code",
   "execution_count": null,
   "metadata": {
    "collapsed": false
   },
   "outputs": [],
   "source": [
    "x_lin = np.linspace(xmin, xmax, ds.domain_dimensions[0])\n",
    "bmag = cg['magnetic_field_strength'][:,64,0].to_astropy().to(u.mT)\n",
    "\n",
    "gaussian = models.Gaussian1D()\n",
    "bmag_fit = fitting.LevMarLSQFitter()(gaussian, x_lin, bmag)\n",
    "\n",
    "fwhm = 2.*np.sqrt(2*np.log(2))*bmag_fit.stddev.value\n",
    "fwhm = np.abs(fwhm) * u.Mm\n",
    "\n",
    "fwtm = 2.*np.sqrt(2*np.log(10))*bmag_fit.stddev.value\n",
    "fwtm = np.abs(fwtm) * u.Mm\n",
    "\n",
    "u.Quantity([fwhm, fwtm]).to(u.km)"
   ]
  },
  {
   "cell_type": "code",
   "execution_count": null,
   "metadata": {
    "collapsed": false
   },
   "outputs": [],
   "source": [
    "%matplotlib inline\n",
    "fig = plt.figure(figsize=(15,8))\n",
    "plt.plot(x_lin, bmag.to(u.mT), 'x')\n",
    "X = np.linspace(xmin, xmax, 1000)\n",
    "plt.plot(X, bmag_fit(X))\n",
    "\n",
    "plt.xlabel(\"X [{}]\".format(fwhm.unit))\n",
    "plt.ylabel(\"Magnetic Field Strength [{}]\".format(bmag.unit))\n",
    "plt.axhline(y=bmag_fit.amplitude.value/10)"
   ]
  },
  {
   "cell_type": "code",
   "execution_count": null,
   "metadata": {
    "collapsed": true
   },
   "outputs": [],
   "source": []
  }
 ],
 "metadata": {
  "kernelspec": {
   "display_name": "Python 2",
   "language": "python2",
   "name": "python2"
  },
  "language_info": {
   "codemirror_mode": {
    "name": "ipython",
    "version": 2
   },
   "file_extension": ".py",
   "mimetype": "text/x-python",
   "name": "python",
   "nbconvert_exporter": "python",
   "pygments_lexer": "ipython2",
   "version": "2.7.10"
  }
 },
 "nbformat": 4,
 "nbformat_minor": 0
}
