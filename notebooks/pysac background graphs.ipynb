{
 "cells": [
  {
   "cell_type": "code",
   "execution_count": 1,
   "metadata": {
    "collapsed": true
   },
   "outputs": [],
   "source": [
    "from __future__ import print_function"
   ]
  },
  {
   "cell_type": "code",
   "execution_count": 2,
   "metadata": {
    "collapsed": true
   },
   "outputs": [],
   "source": [
    "from functools import partial\n",
    "\n",
    "%matplotlib inline\n",
    "import matplotlib as mpl\n",
    "import matplotlib.pyplot as plt\n",
    "import astropy.units as u\n",
    "import numpy as np\n",
    "\n",
    "from astropy.modeling import models, fitting"
   ]
  },
  {
   "cell_type": "markdown",
   "metadata": {},
   "source": [
    "Now we try and build the mfe single tube model."
   ]
  },
  {
   "cell_type": "code",
   "execution_count": 3,
   "metadata": {
    "collapsed": false
   },
   "outputs": [
    {
     "name": "stderr",
     "output_type": "stream",
     "text": [
      "WARNING:traits.has_traits:DEPRECATED: traits.has_traits.wrapped_class, 'the 'implements' class advisor has been deprecated. Use the 'provides' class decorator.\n"
     ]
    }
   ],
   "source": [
    "import pysac.mhs_atmosphere as atm\n",
    "from pysac.mhs_atmosphere.parameters.model_pars import mfe_setup as model_pars"
   ]
  },
  {
   "cell_type": "code",
   "execution_count": 4,
   "metadata": {
    "collapsed": false
   },
   "outputs": [],
   "source": [
    "# Cheeky Reset to Photosphere\n",
    "#model_pars['xyz'][4] = 36641.22*u.m\n",
    "#model_pars['xyz'][5] = 1587786.3*u.m\n",
    "#model_pars['B_corona'] = 0.00055*u.T\n",
    "#model_pars['radial_scale'] = 0.03938*u.Mm\n",
    "##model_pars['radial_scale'] = 0.05*u.Mm\n",
    "model_pars['pBplus'] = 1.2e-3*u.T\n",
    "#model_pars['chrom_scale'] = 0.4*u.Mm"
   ]
  },
  {
   "cell_type": "code",
   "execution_count": 5,
   "metadata": {
    "collapsed": false,
    "scrolled": true
   },
   "outputs": [
    {
     "name": "stdout",
     "output_type": "stream",
     "text": [
      "pBplus 0.0012 T\n",
      "B_corona 0.00055 T\n",
      "coratio 0.0\n",
      "chratio 1.0\n",
      "radial_scale 0.03938 Mm\n",
      "chrom_scale 0.4 Mm\n",
      "corona_scale 0.25 Mm\n",
      "xyz [<Quantity -1.0 Mm>, <Quantity 1.0 Mm>, <Quantity -1.0 Mm>, <Quantity 1.0 Mm>, <Quantity 0.036641221 Mm>, <Quantity 1.5877863 Mm>]\n"
     ]
    }
   ],
   "source": [
    "keys = ['pBplus', 'B_corona', 'coratio', 'chratio', 'radial_scale', 'chrom_scale', 'corona_scale', 'xyz']\n",
    "for key in keys:\n",
    "    print(key, model_pars[key])"
   ]
  },
  {
   "cell_type": "code",
   "execution_count": 6,
   "metadata": {
    "collapsed": false
   },
   "outputs": [
    {
     "ename": "ValueError",
     "evalue": "setting an array element with a sequence.",
     "output_type": "error",
     "traceback": [
      "\u001b[1;31m---------------------------------------------------------------------------\u001b[0m",
      "\u001b[1;31mValueError\u001b[0m                                Traceback (most recent call last)",
      "\u001b[1;32m<ipython-input-6-e26610594ef7>\u001b[0m in \u001b[0;36m<module>\u001b[1;34m()\u001b[0m\n\u001b[0;32m      2\u001b[0m \u001b[0mscales\u001b[0m\u001b[1;33m,\u001b[0m \u001b[0mphysical_constants\u001b[0m \u001b[1;33m=\u001b[0m \u001b[0matm\u001b[0m\u001b[1;33m.\u001b[0m\u001b[0munits_const\u001b[0m\u001b[1;33m.\u001b[0m\u001b[0mget_parameters\u001b[0m\u001b[1;33m(\u001b[0m\u001b[1;33m)\u001b[0m\u001b[1;33m\u001b[0m\u001b[0m\n\u001b[0;32m      3\u001b[0m \u001b[0moption_pars\u001b[0m \u001b[1;33m=\u001b[0m \u001b[0matm\u001b[0m\u001b[1;33m.\u001b[0m\u001b[0moptions\u001b[0m\u001b[1;33m.\u001b[0m\u001b[0mset_options\u001b[0m\u001b[1;33m(\u001b[0m\u001b[0mmodel_pars\u001b[0m\u001b[1;33m,\u001b[0m \u001b[0mFalse\u001b[0m\u001b[1;33m,\u001b[0m \u001b[0ml_gdf\u001b[0m\u001b[1;33m=\u001b[0m\u001b[0mTrue\u001b[0m\u001b[1;33m)\u001b[0m\u001b[1;33m\u001b[0m\u001b[0m\n\u001b[1;32m----> 4\u001b[1;33m \u001b[0mcoords\u001b[0m \u001b[1;33m=\u001b[0m \u001b[0matm\u001b[0m\u001b[1;33m.\u001b[0m\u001b[0mmodel_pars\u001b[0m\u001b[1;33m.\u001b[0m\u001b[0mget_coords\u001b[0m\u001b[1;33m(\u001b[0m\u001b[0mmodel_pars\u001b[0m\u001b[1;33m[\u001b[0m\u001b[1;34m'Nxyz'\u001b[0m\u001b[1;33m]\u001b[0m\u001b[1;33m,\u001b[0m \u001b[0mu\u001b[0m\u001b[1;33m.\u001b[0m\u001b[0mQuantity\u001b[0m\u001b[1;33m(\u001b[0m\u001b[0mmodel_pars\u001b[0m\u001b[1;33m[\u001b[0m\u001b[1;34m'xyz'\u001b[0m\u001b[1;33m]\u001b[0m\u001b[1;33m)\u001b[0m\u001b[1;33m)\u001b[0m\u001b[1;33m\u001b[0m\u001b[0m\n\u001b[0m\u001b[0;32m      5\u001b[0m \u001b[1;33m\u001b[0m\u001b[0m\n\u001b[0;32m      6\u001b[0m \u001b[1;31m#interpolate the hs 1D profiles from empirical data source[s]\u001b[0m\u001b[1;33m\u001b[0m\u001b[1;33m\u001b[0m\u001b[0m\n",
      "\u001b[1;32m/opt/miniconda/envs/thesis/lib/python2.7/site-packages/pysac/mhs_atmosphere/parameters/model_pars.pyc\u001b[0m in \u001b[0;36mget_coords\u001b[1;34m(Nxyz, xyz)\u001b[0m\n\u001b[0;32m    144\u001b[0m     \u001b[0mdz\u001b[0m\u001b[1;33m=\u001b[0m\u001b[1;33m(\u001b[0m\u001b[0mxyz\u001b[0m\u001b[1;33m[\u001b[0m\u001b[1;36m5\u001b[0m\u001b[1;33m]\u001b[0m\u001b[1;33m-\u001b[0m\u001b[0mxyz\u001b[0m\u001b[1;33m[\u001b[0m\u001b[1;36m4\u001b[0m\u001b[1;33m]\u001b[0m\u001b[1;33m)\u001b[0m\u001b[1;33m/\u001b[0m\u001b[1;33m(\u001b[0m\u001b[0mNxyz\u001b[0m\u001b[1;33m[\u001b[0m\u001b[1;36m2\u001b[0m\u001b[1;33m]\u001b[0m\u001b[1;33m-\u001b[0m\u001b[1;36m1\u001b[0m\u001b[1;33m)\u001b[0m\u001b[1;33m\u001b[0m\u001b[0m\n\u001b[0;32m    145\u001b[0m     Z    = np.linspace(xyz[4],\n\u001b[1;32m--> 146\u001b[1;33m                         xyz[5],Nxyz[2])\n\u001b[0m\u001b[0;32m    147\u001b[0m     \u001b[0mZext\u001b[0m \u001b[1;33m=\u001b[0m \u001b[0mnp\u001b[0m\u001b[1;33m.\u001b[0m\u001b[0mlinspace\u001b[0m\u001b[1;33m(\u001b[0m\u001b[0mZ\u001b[0m\u001b[1;33m.\u001b[0m\u001b[0mmin\u001b[0m\u001b[1;33m(\u001b[0m\u001b[1;33m)\u001b[0m\u001b[1;33m-\u001b[0m\u001b[1;36m4.\u001b[0m\u001b[1;33m*\u001b[0m\u001b[0mdz\u001b[0m\u001b[1;33m,\u001b[0m \u001b[0mZ\u001b[0m\u001b[1;33m.\u001b[0m\u001b[0mmax\u001b[0m\u001b[1;33m(\u001b[0m\u001b[1;33m)\u001b[0m\u001b[1;33m+\u001b[0m\u001b[1;36m4.\u001b[0m\u001b[1;33m*\u001b[0m\u001b[0mdz\u001b[0m\u001b[1;33m,\u001b[0m \u001b[0mNxyz\u001b[0m\u001b[1;33m[\u001b[0m\u001b[1;36m2\u001b[0m\u001b[1;33m]\u001b[0m\u001b[1;33m+\u001b[0m\u001b[1;36m8\u001b[0m\u001b[1;33m)\u001b[0m\u001b[1;33m\u001b[0m\u001b[0m\n\u001b[0;32m    148\u001b[0m     coords = {\n",
      "\u001b[1;32m/opt/miniconda/envs/thesis/lib/python2.7/site-packages/numpy/core/function_base.pyc\u001b[0m in \u001b[0;36mlinspace\u001b[1;34m(start, stop, num, endpoint, retstep, dtype)\u001b[0m\n\u001b[0;32m    113\u001b[0m \u001b[1;33m\u001b[0m\u001b[0m\n\u001b[0;32m    114\u001b[0m     \u001b[1;32mif\u001b[0m \u001b[0mendpoint\u001b[0m \u001b[1;32mand\u001b[0m \u001b[0mnum\u001b[0m \u001b[1;33m>\u001b[0m \u001b[1;36m1\u001b[0m\u001b[1;33m:\u001b[0m\u001b[1;33m\u001b[0m\u001b[0m\n\u001b[1;32m--> 115\u001b[1;33m         \u001b[0my\u001b[0m\u001b[1;33m[\u001b[0m\u001b[1;33m-\u001b[0m\u001b[1;36m1\u001b[0m\u001b[1;33m]\u001b[0m \u001b[1;33m=\u001b[0m \u001b[0mstop\u001b[0m\u001b[1;33m\u001b[0m\u001b[0m\n\u001b[0m\u001b[0;32m    116\u001b[0m \u001b[1;33m\u001b[0m\u001b[0m\n\u001b[0;32m    117\u001b[0m     \u001b[1;32mif\u001b[0m \u001b[0mretstep\u001b[0m\u001b[1;33m:\u001b[0m\u001b[1;33m\u001b[0m\u001b[0m\n",
      "\u001b[1;31mValueError\u001b[0m: setting an array element with a sequence."
     ]
    }
   ],
   "source": [
    "# model setup\n",
    "scales, physical_constants = atm.units_const.get_parameters()\n",
    "option_pars = atm.options.set_options(model_pars, False, l_gdf=True)\n",
    "coords = atm.model_pars.get_coords(model_pars['Nxyz'], u.Quantity(model_pars['xyz']))\n",
    "\n",
    "#interpolate the hs 1D profiles from empirical data source[s]\n",
    "empirical_data = atm.hs_atmosphere.read_VAL3c_MTW(mu=physical_constants['mu'])\n",
    "table = atm.hs_atmosphere.interpolate_atmosphere(empirical_data, coords['Zext'])"
   ]
  },
  {
   "cell_type": "code",
   "execution_count": null,
   "metadata": {
    "collapsed": false
   },
   "outputs": [],
   "source": [
    "table['rho'] += table['rho'].min()*3.6"
   ]
  },
  {
   "cell_type": "code",
   "execution_count": null,
   "metadata": {
    "collapsed": false
   },
   "outputs": [],
   "source": [
    "#==============================================================================\n",
    "#calculate 1d hydrostatic balance from empirical density profile\n",
    "#==============================================================================\n",
    "# the hs pressure balance is enhanced by pressure equivalent to the\n",
    "# residual mean coronal magnetic pressure contribution once the magnetic\n",
    "# field has been applied\n",
    "magp_meanz = np.ones(len(coords['Z'])) * u.one\n",
    "magp_meanz *= model_pars['pBplus']**2/(2*physical_constants['mu0'])\n",
    "\n",
    "pressure_z, rho_z, Rgas_z = atm.hs_atmosphere.vertical_profile(coords['Z'], table, magp_meanz,\n",
    "                                                               physical_constants, coords['dz'])"
   ]
  },
  {
   "cell_type": "code",
   "execution_count": null,
   "metadata": {
    "collapsed": false
   },
   "outputs": [],
   "source": [
    "x, y, z = u.Quantity(np.mgrid[coords['xmin']:coords['xmax']:1j*model_pars['Nxyz'][0],\n",
    "                              coords['ymin']:coords['ymax']:1j*model_pars['Nxyz'][1],\n",
    "                              coords['zmin']:coords['zmax']:1j*model_pars['Nxyz'][2]], unit=coords['xmin'].unit)"
   ]
  },
  {
   "cell_type": "code",
   "execution_count": null,
   "metadata": {
    "collapsed": false
   },
   "outputs": [],
   "source": [
    "xi, yi, Si = atm.flux_tubes.get_flux_tubes(model_pars, coords, option_pars)"
   ]
  },
  {
   "cell_type": "code",
   "execution_count": null,
   "metadata": {
    "collapsed": false
   },
   "outputs": [],
   "source": [
    "Si[0][0] = 0.1436*u.T"
   ]
  },
  {
   "cell_type": "code",
   "execution_count": null,
   "metadata": {
    "collapsed": false
   },
   "outputs": [],
   "source": [
    "allmag = atm.flux_tubes.construct_magnetic_field(x, y, z,\n",
    "                                                 xi[0], yi[0], Si[0],\n",
    "                                                 model_pars, option_pars,\n",
    "                                                 physical_constants,\n",
    "                                                 scales)\n",
    "pressure_m, rho_m, Bx, By ,Bz, Btensx, Btensy = allmag"
   ]
  },
  {
   "cell_type": "code",
   "execution_count": null,
   "metadata": {
    "collapsed": false
   },
   "outputs": [],
   "source": [
    "# local proc 3D mhs arrays\n",
    "pressure, rho = atm.mhs_3D.mhs_3D_profile(z,\n",
    "                                          pressure_z,\n",
    "                                          rho_z,\n",
    "                                          pressure_m,\n",
    "                                          rho_m)\n",
    "magp = (Bx**2 + By**2 + Bz**2) / (2.*physical_constants['mu0'])\n",
    "energy = atm.mhs_3D.get_internal_energy(pressure, magp, physical_constants)"
   ]
  },
  {
   "cell_type": "code",
   "execution_count": null,
   "metadata": {
    "collapsed": false
   },
   "outputs": [],
   "source": [
    "x_lin = np.linspace(coords['xmin'], coords['xmax'], model_pars['Nxyz'][0])\n",
    "bmag = np.sqrt((Bx**2 + By**2 + Bz**2))[:,64,0].to(u.mT)\n",
    "\n",
    "gaussian = models.Gaussian1D()\n",
    "bmag_fit = fitting.LevMarLSQFitter()(gaussian, x_lin, bmag)\n",
    "\n",
    "fwhm = 2.*np.sqrt(2*np.log(2))*bmag_fit.stddev.value\n",
    "fwhm = np.abs(fwhm) * u.Mm\n",
    "\n",
    "fwtm = 2.*np.sqrt(2*np.log(10))*bmag_fit.stddev.value\n",
    "fwtm = np.abs(fwtm) * u.Mm\n",
    "\n",
    "u.Quantity([fwhm, fwtm]).to(u.km)"
   ]
  },
  {
   "cell_type": "code",
   "execution_count": null,
   "metadata": {
    "collapsed": false
   },
   "outputs": [],
   "source": [
    "%matplotlib inline\n",
    "fig = plt.figure(figsize=(15,8))\n",
    "plt.plot(x_lin, bmag.to(u.mT), 'x')\n",
    "X = np.linspace(coords['xmin'], coords['xmax'], 1000)\n",
    "plt.plot(X, bmag_fit(X.value))\n",
    "\n",
    "plt.xlabel(\"X [{}]\".format(x.unit))\n",
    "plt.ylabel(\"Magnetic Field Strength [{}]\".format(bmag.unit))\n",
    "plt.axhline(y=bmag_fit.amplitude.value/10)"
   ]
  },
  {
   "cell_type": "markdown",
   "metadata": {},
   "source": [
    "## Now for some plotting"
   ]
  },
  {
   "cell_type": "code",
   "execution_count": null,
   "metadata": {
    "collapsed": true
   },
   "outputs": [],
   "source": [
    "import yt"
   ]
  },
  {
   "cell_type": "code",
   "execution_count": null,
   "metadata": {
    "collapsed": false
   },
   "outputs": [],
   "source": [
    "def magnetic_field_strength(field, data):\n",
    "        return np.sqrt(data[\"magnetic_field_x\"]**2 + data[\"magnetic_field_y\"]**2 + data[\"magnetic_field_z\"]**2)\n",
    "yt.add_field((\"gas\",\"magnetic_field_strength\"),\n",
    "             function=magnetic_field_strength,\n",
    "             units = \"T\")"
   ]
  },
  {
   "cell_type": "code",
   "execution_count": null,
   "metadata": {
    "collapsed": false
   },
   "outputs": [],
   "source": [
    "def plasma_beta(field, data):\n",
    "        return data['pressure'] / data['magnetic_pressure']\n",
    "yt.add_field((\"gas\",\"plasma_beta\"),\n",
    "             function=plasma_beta,\n",
    "             units = \"\")"
   ]
  },
  {
   "cell_type": "code",
   "execution_count": null,
   "metadata": {
    "collapsed": false
   },
   "outputs": [],
   "source": [
    "def alfven_speed(field, data):\n",
    "    return np.sqrt(2.*data['magnetic_pressure']/data['density'])\n",
    "yt.add_field((\"gas\",\"alfven_speed\"),\n",
    "             function=alfven_speed,\n",
    "             units = \"m/s\")"
   ]
  },
  {
   "cell_type": "code",
   "execution_count": null,
   "metadata": {
    "collapsed": false
   },
   "outputs": [],
   "source": [
    "def sound_speed(field, data):\n",
    "    cspeed = np.sqrt(physical_constants['gamma']*pressure/rho)\n",
    "    return cspeed\n",
    "yt.add_field((\"gas\",\"sound_speed\"),\n",
    "             function=sound_speed,\n",
    "             units = \"m/s\", force_override=True)"
   ]
  },
  {
   "cell_type": "code",
   "execution_count": null,
   "metadata": {
    "collapsed": true
   },
   "outputs": [],
   "source": [
    "bbox = u.Quantity([u.Quantity([coords['xmin'], coords['xmax']]),\n",
    "                   u.Quantity([coords['ymin'], coords['ymax']]),\n",
    "                   u.Quantity([coords['zmin'], coords['zmax']])]).to(u.m).value"
   ]
  },
  {
   "cell_type": "code",
   "execution_count": null,
   "metadata": {
    "collapsed": false
   },
   "outputs": [],
   "source": [
    "data = {'magnetic_field_x':yt.YTQuantity.from_astropy(Bx.decompose()),\n",
    "        'magnetic_field_y':yt.YTQuantity.from_astropy(By.decompose()),\n",
    "        'magnetic_field_z':yt.YTQuantity.from_astropy(Bz.decompose()),\n",
    "        'pressure': yt.YTQuantity.from_astropy(pressure.decompose()),\n",
    "        'magnetic_pressure': yt.YTQuantity.from_astropy(magp.decompose()),\n",
    "        'density': yt.YTQuantity.from_astropy(rho.decompose())}\n",
    "\n",
    "ds = yt.load_uniform_grid(data, x.shape,\n",
    "                          length_unit='m', magnetic_unit='T', mass_unit='kg',\n",
    "                          periodicity=[False]*3, bbox=bbox)"
   ]
  },
  {
   "cell_type": "code",
   "execution_count": null,
   "metadata": {
    "collapsed": false
   },
   "outputs": [],
   "source": [
    "ds.index.grids[0]['density'].min(), ds.index.grids[0]['magnetic_field_z'].max(), "
   ]
  },
  {
   "cell_type": "code",
   "execution_count": null,
   "metadata": {
    "collapsed": false
   },
   "outputs": [],
   "source": [
    "ds.index.grids[0]['pressure'].min()"
   ]
  },
  {
   "cell_type": "code",
   "execution_count": null,
   "metadata": {
    "collapsed": false
   },
   "outputs": [],
   "source": [
    "ds.index.grids[0]['magnetic_field_z'][64,64,:]"
   ]
  },
  {
   "cell_type": "code",
   "execution_count": null,
   "metadata": {
    "collapsed": false
   },
   "outputs": [],
   "source": [
    "slc = yt.SlicePlot(ds, 'x', 'alfven_speed', origin='lower-center-domain', axes_unit='Mm')\n",
    "slc.set_cmap('all', 'OrRd')\n",
    "\n",
    "seed_points = np.zeros([11,2]) + 1.52\n",
    "seed_points[:,0] = np.linspace(-0.99, 0.95, seed_points.shape[0], endpoint=True)\n",
    "slc.annotate_streamlines('magnetic_field_y', 'magnetic_field_z', field_color='magnetic_field_strength',\n",
    "                         plot_args={'start_points':seed_points, 'density':15, 'cmap':'winter',\n",
    "                                    'norm': mpl.colors.LogNorm(*ds.all_data().quantities.extrema(\"magnetic_field_strength\"))})\n",
    "slc.annotate_contour('plasma_beta', clim=(1,50), label=True, take_log=False)"
   ]
  },
  {
   "cell_type": "code",
   "execution_count": null,
   "metadata": {
    "collapsed": false,
    "scrolled": false
   },
   "outputs": [],
   "source": [
    "slc = yt.SlicePlot(ds, 'x', ['pressure','magnetic_field_strength'], origin='lower-center-domain',\n",
    "                   axes_unit='Mm')\n",
    "slc.set_cmap('all', 'BuPu')\n",
    "#slc.annotate_contour('plasma_beta')\n",
    "\n",
    "seed_points = np.zeros([11,2]) + 1.52\n",
    "seed_points[:,0] = np.linspace(-0.99, 0.95, seed_points.shape[0], endpoint=True)\n",
    "slc.annotate_streamlines('magnetic_field_y', 'magnetic_field_z', field_color='magnetic_field_strength',\n",
    "                         plot_args={'start_points':seed_points, 'density':15, 'cmap':'winter', 'linewidth': 2,\n",
    "                                    'norm': slc.plots['magnetic_field_strength'].image.norm})\n",
    "slc.annotate_contour('plasma_beta', label=True, take_log=False, clim=(1,50))"
   ]
  },
  {
   "cell_type": "code",
   "execution_count": null,
   "metadata": {
    "collapsed": false
   },
   "outputs": [],
   "source": [
    "slc = yt.SlicePlot(ds, 'z', 'magnetic_field_strength', origin='center-domain',\n",
    "                   axes_unit='km', center=(\"max\", \"magnetic_field_strength\"), width=(0.5, \"Mm\"))\n",
    "slc.set_cmap('all', 'Oranges')\n",
    "slc.annotate_contour('magnetic_field_strength', take_log=False,\n",
    "                     plot_args={'levels':[ds.all_data().quantities.extrema(\"magnetic_field_strength\")[1]/2.],\n",
    "                                'linewidths':3,\n",
    "                                'colors':'black'})"
   ]
  },
  {
   "cell_type": "code",
   "execution_count": null,
   "metadata": {
    "collapsed": true
   },
   "outputs": [],
   "source": []
  },
  {
   "cell_type": "code",
   "execution_count": null,
   "metadata": {
    "collapsed": true
   },
   "outputs": [],
   "source": []
  }
 ],
 "metadata": {
  "kernelspec": {
   "display_name": "Environment (thesis)",
   "language": "",
   "name": "thesis"
  },
  "language_info": {
   "codemirror_mode": {
    "name": "ipython",
    "version": 2
   },
   "file_extension": ".py",
   "mimetype": "text/x-python",
   "name": "python",
   "nbconvert_exporter": "python",
   "pygments_lexer": "ipython2",
   "version": "2.7.10"
  }
 },
 "nbformat": 4,
 "nbformat_minor": 0
}
