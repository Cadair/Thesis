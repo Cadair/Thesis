{
 "metadata": {
  "name": "",
  "signature": "sha256:be2c13c1220a7443712ba166fde9029af5edb75284bf0cc484cb24ab9924e9b8"
 },
 "nbformat": 3,
 "nbformat_minor": 0,
 "worksheets": [
  {
   "cells": [
    {
     "cell_type": "code",
     "collapsed": false,
     "input": [
      "import pysac\n",
      "pysac.__version__"
     ],
     "language": "python",
     "metadata": {},
     "outputs": [
      {
       "metadata": {},
       "output_type": "pyout",
       "prompt_number": 1,
       "text": [
        "'0.2.dev202'"
       ]
      }
     ],
     "prompt_number": 1
    },
    {
     "cell_type": "code",
     "collapsed": false,
     "input": [
      "import numpy as np"
     ],
     "language": "python",
     "metadata": {},
     "outputs": [],
     "prompt_number": 2
    },
    {
     "cell_type": "code",
     "collapsed": false,
     "input": [
      "import pysac.yt\n",
      "import pysac.analysis.tube3D.process_utils as tpu\n",
      "import pysac.analysis.tube3D.tvtk_tube_functions as ttf"
     ],
     "language": "python",
     "metadata": {},
     "outputs": [
      {
       "output_type": "stream",
       "stream": "stderr",
       "text": [
        "WARNING:traits.has_traits:DEPRECATED: traits.has_traits.wrapped_class, 'the 'implements' class advisor has been deprecated. Use the 'provides' class decorator.\n"
       ]
      }
     ],
     "prompt_number": 3
    },
    {
     "cell_type": "code",
     "collapsed": false,
     "input": [
      "ds = pysac.yt.SACGDFDataset('../thesis/Chapter2/Data/Slog_p180-0_A20-r3_B015_00001.gdf')\n",
      "cg = ds.index.grids[0]\n",
      "xmax, ymax, zmax = np.array(cg['mag_field_x'].shape) - 1\n",
      "domain = {'xmax':xmax, 'ymax':ymax, 'zmax':zmax}"
     ],
     "language": "python",
     "metadata": {},
     "outputs": [
      {
       "output_type": "stream",
       "stream": "stderr",
       "text": [
        "yt : [INFO     ] 2015-02-09 15:02:09,419 Parameters: current_time              = 1.05812632277\n"
       ]
      },
      {
       "output_type": "stream",
       "stream": "stderr",
       "text": [
        "yt : [INFO     ] 2015-02-09 15:02:09,419 Parameters: domain_dimensions         = [128 128 128]\n"
       ]
      },
      {
       "output_type": "stream",
       "stream": "stderr",
       "text": [
        "yt : [INFO     ] 2015-02-09 15:02:09,420 Parameters: domain_left_edge          = [  781250.    781250.   3664122.1]\n"
       ]
      },
      {
       "output_type": "stream",
       "stream": "stderr",
       "text": [
        "yt : [INFO     ] 2015-02-09 15:02:09,420 Parameters: domain_right_edge         = [  1.99218750e+08   1.99218750e+08   1.58778630e+08]\n"
       ]
      },
      {
       "output_type": "stream",
       "stream": "stderr",
       "text": [
        "yt : [INFO     ] 2015-02-09 15:02:09,421 Parameters: cosmological_simulation   = 0.0\n"
       ]
      },
      {
       "output_type": "stream",
       "stream": "stderr",
       "text": [
        "yt : [WARNING  ] 2015-02-09 15:02:09,428 Cannot interpret units: 0.001 * , setting to dimensionless.\n"
       ]
      },
      {
       "output_type": "stream",
       "stream": "stderr",
       "text": [
        "yt : [WARNING  ] 2015-02-09 15:02:09,428 Cannot interpret units: 0.001 * , setting to dimensionless.\n"
       ]
      },
      {
       "output_type": "stream",
       "stream": "stderr",
       "text": [
        "yt : [WARNING  ] 2015-02-09 15:02:09,429 Cannot interpret units: 10 * , setting to dimensionless.\n"
       ]
      },
      {
       "output_type": "stream",
       "stream": "stderr",
       "text": [
        "yt : [WARNING  ] 2015-02-09 15:02:09,429 Cannot interpret units: 10 * , setting to dimensionless.\n"
       ]
      },
      {
       "output_type": "stream",
       "stream": "stderr",
       "text": [
        "yt : [WARNING  ] 2015-02-09 15:02:09,429 Cannot interpret units: 10000.0 * , setting to dimensionless.\n"
       ]
      },
      {
       "output_type": "stream",
       "stream": "stderr",
       "text": [
        "yt : [WARNING  ] 2015-02-09 15:02:09,429 Cannot interpret units: 10000.0 * , setting to dimensionless.\n"
       ]
      },
      {
       "output_type": "stream",
       "stream": "stderr",
       "text": [
        "yt : [WARNING  ] 2015-02-09 15:02:09,430 Cannot interpret units: 10000.0 * , setting to dimensionless.\n"
       ]
      },
      {
       "output_type": "stream",
       "stream": "stderr",
       "text": [
        "yt : [WARNING  ] 2015-02-09 15:02:09,430 Cannot interpret units: 10000.0 * , setting to dimensionless.\n"
       ]
      },
      {
       "output_type": "stream",
       "stream": "stderr",
       "text": [
        "yt : [WARNING  ] 2015-02-09 15:02:09,430 Cannot interpret units: 10000.0 * , setting to dimensionless.\n"
       ]
      },
      {
       "output_type": "stream",
       "stream": "stderr",
       "text": [
        "yt : [WARNING  ] 2015-02-09 15:02:09,430 Cannot interpret units: 10000.0 * , setting to dimensionless.\n"
       ]
      },
      {
       "output_type": "stream",
       "stream": "stderr",
       "text": [
        "yt : [INFO     ] 2015-02-09 15:02:09,453 Loading field plugins.\n"
       ]
      },
      {
       "output_type": "stream",
       "stream": "stderr",
       "text": [
        "yt : [INFO     ] 2015-02-09 15:02:09,454 Loaded angular_momentum (8 new fields)\n"
       ]
      },
      {
       "output_type": "stream",
       "stream": "stderr",
       "text": [
        "yt : [INFO     ] 2015-02-09 15:02:09,454 Loaded astro (15 new fields)\n"
       ]
      },
      {
       "output_type": "stream",
       "stream": "stderr",
       "text": [
        "yt : [INFO     ] 2015-02-09 15:02:09,454 Loaded cosmology (22 new fields)\n"
       ]
      },
      {
       "output_type": "stream",
       "stream": "stderr",
       "text": [
        "yt : [INFO     ] 2015-02-09 15:02:09,455 Loaded fluid (64 new fields)\n"
       ]
      },
      {
       "output_type": "stream",
       "stream": "stderr",
       "text": [
        "yt : [INFO     ] 2015-02-09 15:02:09,456 Loaded fluid_vector (96 new fields)\n"
       ]
      },
      {
       "output_type": "stream",
       "stream": "stderr",
       "text": [
        "yt : [INFO     ] 2015-02-09 15:02:09,456 Loaded geometric (112 new fields)\n"
       ]
      },
      {
       "output_type": "stream",
       "stream": "stderr",
       "text": [
        "yt : [INFO     ] 2015-02-09 15:02:09,457 Loaded local (112 new fields)\n"
       ]
      },
      {
       "output_type": "stream",
       "stream": "stderr",
       "text": [
        "yt : [INFO     ] 2015-02-09 15:02:09,457 Loaded magnetic_field (120 new fields)\n"
       ]
      },
      {
       "output_type": "stream",
       "stream": "stderr",
       "text": [
        "yt : [INFO     ] 2015-02-09 15:02:09,458 Loaded my_plugins (120 new fields)\n"
       ]
      },
      {
       "output_type": "stream",
       "stream": "stderr",
       "text": [
        "yt : [INFO     ] 2015-02-09 15:02:09,458 Loaded species (122 new fields)\n"
       ]
      }
     ],
     "prompt_number": 4
    },
    {
     "cell_type": "code",
     "collapsed": false,
     "input": [
      "bfield, vfield = tpu.get_yt_mlab(ds, np.s_[:,:,:], flux=False)"
     ],
     "language": "python",
     "metadata": {},
     "outputs": [],
     "prompt_number": 5
    },
    {
     "cell_type": "code",
     "collapsed": false,
     "input": [
      "pd_seeds = ttf.make_circle_seeds(100, 60, **domain)\n",
      "surf_field_lines, surface = ttf.create_flux_surface(bfield, pd_seeds)"
     ],
     "language": "python",
     "metadata": {},
     "outputs": [],
     "prompt_number": 6
    },
    {
     "cell_type": "code",
     "collapsed": false,
     "input": [
      "bfield"
     ],
     "language": "python",
     "metadata": {},
     "outputs": [
      {
       "metadata": {},
       "output_type": "pyout",
       "prompt_number": 7,
       "text": [
        "<mayavi.sources.array_source.ArraySource at 0x7fd16b30e710>"
       ]
      }
     ],
     "prompt_number": 7
    },
    {
     "cell_type": "code",
     "collapsed": false,
     "input": [
      "surf_field_lines, surface = ttf.create_flux_surface(bfield, pd_seeds)"
     ],
     "language": "python",
     "metadata": {},
     "outputs": [],
     "prompt_number": 9
    },
    {
     "cell_type": "code",
     "collapsed": false,
     "input": [
      "ttf.make_poly_norms()"
     ],
     "language": "python",
     "metadata": {},
     "outputs": []
    }
   ],
   "metadata": {}
  }
 ]
}